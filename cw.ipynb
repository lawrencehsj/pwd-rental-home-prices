{
 "cells": [
  {
   "cell_type": "markdown",
   "metadata": {},
   "source": [
    "# CM2015 Programming with Data CW1\n",
    "________________________________________________________________________________________________________________"
   ]
  },
  {
   "cell_type": "markdown",
   "metadata": {},
   "source": [
    "# Data Analysis on HDB Room rental details in Singapore"
   ]
  },
  {
   "cell_type": "markdown",
   "metadata": {},
   "source": [
    "## Table of Contents\n",
    "<div id=\"toc_container\">\n",
    "        <ul class=\"toc_list\">\n",
    "            <li>1.0 <a href=\"#section1\">Introduction</a>\n",
    "                <ul>\n",
    "                    <li>1.1 <a href=\"#section1.1\">Dataset Justification</a>\n",
    "                    <li>1.2 <a href=\"#section1.2\">Ethics Considerations</a>\n",
    "                </ul>\n",
    "                <br>\n",
    "            <li>2.0 <a href=\"#section2\">Importing the necessary libraries</a>\n",
    "            <li>3.0A <a href=\"#section3A\">Extracting data from '99co.com'**</a>\n",
    "                <ul>\n",
    "                    <li>3.0B <a href=\"#section3B\">Reading from file: parsed 99co data</a>\n",
    "                    <li>3.1 <a href=\"#section3.1\">Generate 99co Dataframe with pandas</a>                        \n",
    "                    <li>3.2 <a href=\"#section3.2\">Data Cleaning</a>                           \n",
    "                </ul>\n",
    "                <br>\n",
    "            <li>4.0A <a href=\"#section4A\">Extracting data from 'ilivesg.com'**</a>\n",
    "                <ul>\n",
    "                    <li>4.0B <a href=\"#section4B\">Reading from file: parsed ilivesg data</a>\n",
    "                    <li>4.1 <a href=\"#section4.1\">Generate ilivesg Dataframe with pandas</a>                        \n",
    "                    <li>4.2 <a href=\"#section4.2\">Data Cleaning</a>                        \n",
    "                </ul>\n",
    "                <br>\n",
    "            <li>5.0 <a href=\"#section5\">Concatenate dataframes</a>\n",
    "            <li>6.0 <a href=\"#section6\">Carousell's 2019 HDB Room rental report</a>\n",
    "            <li>7.0 <a href=\"#section7\">Geopy API</a>                \n",
    "            <li>8.0 <a href=\"#section8\">Summary</a>\n",
    "            <li>9.0 <a href=\"#section9\">Further Development</a>                \n",
    "        </ul>\n",
    "</div>"
   ]
  },
  {
   "cell_type": "markdown",
   "metadata": {},
   "source": [
    "<i><a href=''>3.0A/4.0A**</a> - if unable to process, skip to 3.0B or 4.0B respectively to read previously saved data from file instead</i>"
   ]
  },
  {
   "cell_type": "markdown",
   "metadata": {},
   "source": [
    "## ***NOTE: 3.0A and 4.0A are commented out due to long web parsing delay. Data reading starts from 3.0B and 4.0B from previously saved files."
   ]
  },
  {
   "cell_type": "markdown",
   "metadata": {},
   "source": [
    "<a id='section1'></a>\n",
    "## 1.0 Introduction"
   ]
  },
  {
   "cell_type": "markdown",
   "metadata": {},
   "source": [
    "This research paper studies the current market for <b>HDB Common room rentals</b> in Singapore. There are few existing datasets and research topics regarding this field of study, and it seems to be rather unexplored. However, i find this field to be highly relevant for myself, and other international students.\n",
    "\n",
    "Many international students come to Singapore to pursue undergraduate education. Looking for a suitable accomodation will pose as a challenge for these students, as it will be their home for the duration of their study. Personally, I plan to rent a room when i start working full-time, to learn to live more independently. By gathering data on market prices, one can get to understand and estimate costs of accomodation, to better plan for the future and set aside costs.  \n",
    "\n",
    "The goal of the project is to analyse overall standings of rental fees and locations, to narrow down options in choosing a suitable room for rent. The final agenda of this project is to identify the most desired room rental based in <b>Woodlands</b>. \n",
    "\n",
    "##### The following agendas will be explored:\n",
    "* Popularity of rentals based on location/region\n",
    "* Median prices of overall rentals\n",
    "* Median prices per region\n",
    "* Median price comparison with 2019 report\n",
    "* Cheapest/most desired rates\n",
    "* Overview of listings in x region\n",
    "    * Pins on map based on price range (e.g green for cheap, orange for mid-range, red for expensive)\n",
    "        - show overall locations with price filter\n",
    "        - MRT convenience or other form of amenities\n",
    "* Comparison of overall prices between online property platforms\n",
    "\n",
    "\n",
    "#### For the scope of the work, the following factors will not be considered:\n",
    "* Condo/Landed room rentals\n",
    "* Master room rentals\n",
    "* Misc fees (utilities)\n",
    "* Restrictions (gender, visiting, cooking etc)\n",
    "* dimensions of room"
   ]
  },
  {
   "cell_type": "markdown",
   "metadata": {},
   "source": [
    "<a id='section1.1'></a>\n",
    "## 1.1 Dataset Justification"
   ]
  },
  {
   "cell_type": "markdown",
   "metadata": {},
   "source": [
    "There are no existing public APIs for data in this field of study. Hence, for this project, I will be acquiring my data sets from the following two sites through web scraping means:\n",
    "1. https://www.99.co/singapore/rent\n",
    "2. https://www.ilivesg.com\n",
    "\n",
    "The reason why i have selected these two property websites is because each caters to a different group. 99co is a more sophisticated and refined marketplace, and also one of the biggest in Singapore. The listing prices through this platform is generally expected to be higher, due to a majority of them being posted by property agents. Contrary, ilivesg boasts a no agent fee for its listings, hence, listing prices are generally expected to be slightly lower.\n",
    "\n",
    "Having a mix of these 2 different platforms allows for a wider spectrum of available rooms for analysis, and the study towards prices on a agent/non-agent based platform."
   ]
  },
  {
   "cell_type": "markdown",
   "metadata": {},
   "source": [
    "<a id='section1.2'></a>\n",
    "## 1.2 Ethics Consideration"
   ]
  },
  {
   "cell_type": "markdown",
   "metadata": {},
   "source": [
    "Given that i will obtain my data through web scraping, it may pose some ethical challenges. The following points will explain the moral grounds that i abide by for an ethically sound web scraping.\n",
    "1. The data that is gathered publicly available to anyone, property price analysis have been done by governments, agents and individuals, with respect to the identified data and references.\n",
    "2. Regarding usage of data, it is used with the purpose of creating new data, and not duplicating or distributing it.\n",
    "3. Content obtained will not be regarded as my own.\n",
    "4. 'robot.txt' rules are abided and in no means bypassed.\n",
    "5. Research summaries will not have any dangerous or harmful assumptions. Summaries include purely analysis of market prices for personal references. \n",
    "6. Content will have no potential implications and will not present any potential threats."
   ]
  },
  {
   "cell_type": "markdown",
   "metadata": {},
   "source": [
    "<a id = 'section2'></a>\n",
    "## 2.0 Importing the necessary libraries"
   ]
  },
  {
   "cell_type": "code",
   "execution_count": 1,
   "metadata": {},
   "outputs": [],
   "source": [
    "import requests\n",
    "import bs4\n",
    "import json\n",
    "import pandas as pd\n",
    "import matplotlib.pyplot as plt\n",
    "import re\n",
    "import numpy as np"
   ]
  },
  {
   "cell_type": "markdown",
   "metadata": {},
   "source": [
    "<a id='section3A'></a>\n",
    "## 3.0A Extracting data from '99co.com'\n",
    "* This property web platform is one of the biggest in Singapore, with a refined marketplace. Due to its higher-end nature and the availability of agencies, the prices tend to be higher, and with a more dominant range of listings due to its popularity.\n",
    "* Commented out for smooth run using saved parsed data from '99co_data.json'"
   ]
  },
  {
   "cell_type": "markdown",
   "metadata": {},
   "source": [
    "### Retrieving individual listing hrefs"
   ]
  },
  {
   "cell_type": "code",
   "execution_count": 2,
   "metadata": {},
   "outputs": [],
   "source": [
    "# print(\"Getting request to server\")\n",
    "# # Filter settings (params) to be passed to GET request\n",
    "# building_type = 'hdb'\n",
    "# rental_type = 'room'\n",
    "# room_type = 'common'\n",
    "# page_num = 1\n",
    "# page_size=50\n",
    "\n",
    "# # necessary params to navigate to web page with applied filters\n",
    "# params = {\n",
    "#     'main_category': building_type,\n",
    "#     'rental_type': rental_type,\n",
    "#     'room_type': room_type,\n",
    "#     'page_num': page_num,\n",
    "#     'page_size': page_size\n",
    "# }\n",
    "\n",
    "# # base_url used later\n",
    "# base_url = 'https://www.99.co'\n",
    "# url = 'https://www.99.co/singapore/rent'\n",
    "# res = requests.get(url, params=params)\n",
    "# soup = bs4.BeautifulSoup(res.text,'html.parser')\n",
    "\n",
    "# # test for response\n",
    "# # print(res)\n",
    "\n",
    "\n",
    "# # =================================================================================\n",
    "# # getting the max no. of pages\n",
    "# # page number contained in 'button' role in \\<a> tag\n",
    "# pages = soup.find_all('a', attrs = {'role': 'button'})\n",
    "# max_page = 0\n",
    "\n",
    "# for page in pages:\n",
    "#     # check for digits in strings and max page no.\n",
    "#     if page.text.isnumeric() and int(page.text) > max_page:\n",
    "#         # cast to int\n",
    "#         max_page = int(page.text)\n",
    "        \n",
    "        \n",
    "# # =================================================================================\n",
    "# # ### Individual listing hrefs from all pages\n",
    "# # * More detailed information about the rent such as region, address etc, thereby the need to navigate each listing one by one (results in high processing time)\n",
    "# # * Loop thru pages ---> retrieve \\<a> containing href link\n",
    "# # #### Note that there is a crawl delay - 3s\n",
    "# # <i>Due to long processing time, max_page will not be used in this scenario. Max number of pages will be capped at __ .\n",
    "# # The extraction process takes some time (#~approx 500 requests). Wait for the print statement execution.</i>\n",
    "\n",
    "# list_hrefs = []\n",
    "# print(\"Extracting in progress, please wait...\")\n",
    "\n",
    "# # set page limit, ensure that within range of max number of pages\n",
    "# pages_to_loop = 10\n",
    "# if max_page < pages_to_loop:\n",
    "#     pages_to_loop = max_page\n",
    "\n",
    "# for page in range(1,pages_to_loop+1):\n",
    "\n",
    "#     try:\n",
    "#         # get all rent listing url\n",
    "#         # pass in page number to params\n",
    "#         params['page_num'] = page \n",
    "#         # get new request for mass listings per page\n",
    "#         res = requests.get(url, params=params)\n",
    "#         soup = bs4.BeautifulSoup(res.text,'html.parser') \n",
    "#         # find all listings id\n",
    "#         listings = soup.find_all(class_=\"_2kH6B\")\n",
    "\n",
    "#         # loop thru listings per page\n",
    "#         for list in listings:\n",
    "\n",
    "#             # get listing id href\n",
    "#             href = list.a['href'] \n",
    "#             list_hrefs.append(href)    \n",
    "            \n",
    "#     #error handling\n",
    "#     except:\n",
    "#         print(\"Error: Page not found.\")\n",
    "#         print(\"Page may have expired.\")\n",
    "#         print(\"Last page: \"+page)\n",
    "#         break\n",
    "    \n",
    "# print('done')\n",
    "# list_hrefs[:1]"
   ]
  },
  {
   "cell_type": "markdown",
   "metadata": {},
   "source": [
    "### Retrieve rent details from each individual listing"
   ]
  },
  {
   "cell_type": "code",
   "execution_count": 3,
   "metadata": {},
   "outputs": [],
   "source": [
    "# # Cap number of listings to reduce scraping time due to crawl delay\n",
    "# # 100 listings takes about 1 minute to crawl\n",
    "# num_of_listings = 100\n",
    "\n",
    "# co_rent_details = []\n",
    "# counter = 0\n",
    "# print(\"Extracting in progress, please wait...\")\n",
    "\n",
    "# for href in list_hrefs:\n",
    "    \n",
    "#     # counter to track number of listings crawled\n",
    "#     if counter < num_of_listings:\n",
    "        \n",
    "#         # get indiv listing with base_url\n",
    "#         # get new request for indiv listings (base_url + href)\n",
    "#         res = requests.get(base_url + href)\n",
    "#         soup = bs4.BeautifulSoup(res.text,'html.parser') \n",
    "\n",
    "#         try:\n",
    "#             # get listing details        \n",
    "#             address = soup.find(class_='_1p49F').h1.text # Room in ____/Common room in ___/Studio in ____\n",
    "#             region = soup.find(class_='_1p49F').span.text.strip() # Pasir ris/tampines (D18)\n",
    "#             room_type = soup.find(class_='_3gg1z').p.text # Common room/Master room\n",
    "#             building_type = soup.find(class_='_1p49F').a.text # 'HDB for rent'\n",
    "#             price = soup.find(id='price').h2.text # $650/mo\n",
    "\n",
    "#             # json to store details per listing\n",
    "#             details = {\n",
    "#                 'address': address,\n",
    "#                 'region': region,\n",
    "#                 'room_type': room_type,\n",
    "#                 'building_type': building_type,\n",
    "#                 'price': price\n",
    "#             }\n",
    "#             # list to store all rent listing jsons (all listings)\n",
    "#             co_rent_details.append(details)\n",
    "#             # increment counter\n",
    "#             counter+=1\n",
    "\n",
    "#         #error handling\n",
    "#         except AttributeError:\n",
    "#             print(\"Error: There is no such attribute.\")\n",
    "#             print(\"Listing may have expired.\")\n",
    "#             print(\"Last list: \" + href)\n",
    "#             break\n",
    "\n",
    "# print(\"done\")\n",
    "# co_rent_details[:1]"
   ]
  },
  {
   "cell_type": "markdown",
   "metadata": {},
   "source": [
    "### Write to json file"
   ]
  },
  {
   "cell_type": "code",
   "execution_count": 4,
   "metadata": {},
   "outputs": [],
   "source": [
    "# # write data to file in case web scraping does not work (e.g region blocked)\n",
    "# with open('99co_data.json', 'w') as f:\n",
    "#     json.dump(co_rent_details, f)"
   ]
  },
  {
   "cell_type": "markdown",
   "metadata": {},
   "source": [
    "<a id='section3B'></a>\n",
    "## 3.0B Reading from file: parsed 99co data\n",
    "* Start from here if 3.0A Extracting data from '99co' does not work (e.g region blocked)"
   ]
  },
  {
   "cell_type": "code",
   "execution_count": 5,
   "metadata": {},
   "outputs": [],
   "source": [
    "f = open('99co_data.json', 'r')\n",
    "co_rent_details = json.load(f)"
   ]
  },
  {
   "cell_type": "code",
   "execution_count": 6,
   "metadata": {
    "scrolled": true
   },
   "outputs": [
    {
     "data": {
      "text/plain": [
       "[{'address': 'Room in 170 Gangsa Road',\n",
       "  'region': 'Bukit Batok / Bukit Panjang / Choa Chu Kang (D23)',\n",
       "  'room_type': 'Common Room',\n",
       "  'building_type': 'HDB for Rent',\n",
       "  'price': '$700/mo'}]"
      ]
     },
     "execution_count": 6,
     "metadata": {},
     "output_type": "execute_result"
    }
   ],
   "source": [
    "co_rent_details[:1]"
   ]
  },
  {
   "cell_type": "markdown",
   "metadata": {},
   "source": [
    "<a id='section3.1'></a>\n",
    "## 3.1 Generate 99co Dataframe with pandas"
   ]
  },
  {
   "cell_type": "code",
   "execution_count": 7,
   "metadata": {},
   "outputs": [],
   "source": [
    "# generate dataframe and rename columns\n",
    "co_df = pd.json_normalize(co_rent_details)\n",
    "co_df.columns=['Address', 'Region', 'Room-type', 'Building-type', 'Price']\n",
    "# remove duplicates\n",
    "co_df = co_df.drop_duplicates()\n",
    "# reset index after removing dupes\n",
    "co_df = co_df.reset_index(drop=True)"
   ]
  },
  {
   "cell_type": "code",
   "execution_count": 8,
   "metadata": {},
   "outputs": [
    {
     "data": {
      "text/html": [
       "<div>\n",
       "<style scoped>\n",
       "    .dataframe tbody tr th:only-of-type {\n",
       "        vertical-align: middle;\n",
       "    }\n",
       "\n",
       "    .dataframe tbody tr th {\n",
       "        vertical-align: top;\n",
       "    }\n",
       "\n",
       "    .dataframe thead th {\n",
       "        text-align: right;\n",
       "    }\n",
       "</style>\n",
       "<table border=\"1\" class=\"dataframe\">\n",
       "  <thead>\n",
       "    <tr style=\"text-align: right;\">\n",
       "      <th></th>\n",
       "      <th>Address</th>\n",
       "      <th>Region</th>\n",
       "      <th>Room-type</th>\n",
       "      <th>Building-type</th>\n",
       "      <th>Price</th>\n",
       "    </tr>\n",
       "  </thead>\n",
       "  <tbody>\n",
       "    <tr>\n",
       "      <th>97</th>\n",
       "      <td>Room in 2 Hougang Avenue 3</td>\n",
       "      <td>Hougang / Punggol / Sengkang (D19)</td>\n",
       "      <td>Common Room</td>\n",
       "      <td>HDB for Rent</td>\n",
       "      <td>$310/mo</td>\n",
       "    </tr>\n",
       "    <tr>\n",
       "      <th>98</th>\n",
       "      <td>Room in 146 Pasir Ris Street 11</td>\n",
       "      <td>Pasir Ris / Tampines (D18)</td>\n",
       "      <td>Common Room</td>\n",
       "      <td>HDB for Rent</td>\n",
       "      <td>$280/mo</td>\n",
       "    </tr>\n",
       "  </tbody>\n",
       "</table>\n",
       "</div>"
      ],
      "text/plain": [
       "                            Address                              Region  \\\n",
       "97       Room in 2 Hougang Avenue 3  Hougang / Punggol / Sengkang (D19)   \n",
       "98  Room in 146 Pasir Ris Street 11          Pasir Ris / Tampines (D18)   \n",
       "\n",
       "      Room-type Building-type    Price  \n",
       "97  Common Room  HDB for Rent  $310/mo  \n",
       "98  Common Room  HDB for Rent  $280/mo  "
      ]
     },
     "execution_count": 8,
     "metadata": {},
     "output_type": "execute_result"
    }
   ],
   "source": [
    "co_df.tail(2)"
   ]
  },
  {
   "cell_type": "markdown",
   "metadata": {},
   "source": [
    "<a id='section3.2'></a>\n",
    "## 3.2 Data Cleaning\n",
    "#### Address: e.g 'Room in 121 Mcnair Road' --> '121 Mcnair Road'"
   ]
  },
  {
   "cell_type": "code",
   "execution_count": 9,
   "metadata": {},
   "outputs": [],
   "source": [
    "# Use NLTK tools to remove a custom list of stop words (to remove unwanted words in details)\n",
    "import nltk\n",
    "from nltk.tokenize import word_tokenize "
   ]
  },
  {
   "cell_type": "code",
   "execution_count": 10,
   "metadata": {},
   "outputs": [],
   "source": [
    "# 'co' shortform for '99co'\n",
    "co_stopwords = [\n",
    "    'room', 'in', 'studio', 'apartment', 'landed', \n",
    "    'condo', 'master', 'common', 'for', 'rent', \n",
    "    'executive','house','terraced','shophouse'\n",
    "]"
   ]
  },
  {
   "cell_type": "code",
   "execution_count": 11,
   "metadata": {},
   "outputs": [],
   "source": [
    "# remove co_stopwords in address\n",
    "# e.g 'Room in 121 Mcnair Road' --> '121 Mcnair Road'\n",
    "\n",
    "for address in co_df['Address']:\n",
    "    tokens = word_tokenize(address) \n",
    "    # check if exists in co_stopwords\n",
    "    tokenized = [words for words in tokens if not words.lower() in co_stopwords] \n",
    "    # rejoin tokens with exclusions\n",
    "    clean_address = ' '.join(tokenized)\n",
    "    co_df['Address'].replace(address,clean_address,inplace=True)"
   ]
  },
  {
   "cell_type": "code",
   "execution_count": 12,
   "metadata": {},
   "outputs": [
    {
     "data": {
      "text/html": [
       "<div>\n",
       "<style scoped>\n",
       "    .dataframe tbody tr th:only-of-type {\n",
       "        vertical-align: middle;\n",
       "    }\n",
       "\n",
       "    .dataframe tbody tr th {\n",
       "        vertical-align: top;\n",
       "    }\n",
       "\n",
       "    .dataframe thead th {\n",
       "        text-align: right;\n",
       "    }\n",
       "</style>\n",
       "<table border=\"1\" class=\"dataframe\">\n",
       "  <thead>\n",
       "    <tr style=\"text-align: right;\">\n",
       "      <th></th>\n",
       "      <th>Address</th>\n",
       "      <th>Region</th>\n",
       "      <th>Room-type</th>\n",
       "      <th>Building-type</th>\n",
       "      <th>Price</th>\n",
       "    </tr>\n",
       "  </thead>\n",
       "  <tbody>\n",
       "    <tr>\n",
       "      <th>0</th>\n",
       "      <td>170 Gangsa Road</td>\n",
       "      <td>Bukit Batok / Bukit Panjang / Choa Chu Kang (D23)</td>\n",
       "      <td>Common Room</td>\n",
       "      <td>HDB for Rent</td>\n",
       "      <td>$700/mo</td>\n",
       "    </tr>\n",
       "  </tbody>\n",
       "</table>\n",
       "</div>"
      ],
      "text/plain": [
       "           Address                                             Region  \\\n",
       "0  170 Gangsa Road  Bukit Batok / Bukit Panjang / Choa Chu Kang (D23)   \n",
       "\n",
       "     Room-type Building-type    Price  \n",
       "0  Common Room  HDB for Rent  $700/mo  "
      ]
     },
     "execution_count": 12,
     "metadata": {},
     "output_type": "execute_result"
    }
   ],
   "source": [
    "co_df.head(1)"
   ]
  },
  {
   "cell_type": "markdown",
   "metadata": {},
   "source": [
    "#### Building-type cleaning: e.g 'HDB for rent' --> 'HDB'"
   ]
  },
  {
   "cell_type": "code",
   "execution_count": 13,
   "metadata": {},
   "outputs": [],
   "source": [
    "# remove co_stopwords in building type, only keep the property type\n",
    "for building_type in co_df['Building-type']:\n",
    "    tokens = word_tokenize(building_type) \n",
    "    tokenized = [words for words in tokens if not words.lower() in co_stopwords] \n",
    "    clean_building_type = ' '.join(tokenized)\n",
    "    co_df['Building-type'].replace(building_type, clean_building_type, inplace=True)"
   ]
  },
  {
   "cell_type": "markdown",
   "metadata": {},
   "source": [
    "#### Price cleaning: e.g $600 --> 600"
   ]
  },
  {
   "cell_type": "code",
   "execution_count": 14,
   "metadata": {},
   "outputs": [
    {
     "data": {
      "text/html": [
       "<div>\n",
       "<style scoped>\n",
       "    .dataframe tbody tr th:only-of-type {\n",
       "        vertical-align: middle;\n",
       "    }\n",
       "\n",
       "    .dataframe tbody tr th {\n",
       "        vertical-align: top;\n",
       "    }\n",
       "\n",
       "    .dataframe thead th {\n",
       "        text-align: right;\n",
       "    }\n",
       "</style>\n",
       "<table border=\"1\" class=\"dataframe\">\n",
       "  <thead>\n",
       "    <tr style=\"text-align: right;\">\n",
       "      <th></th>\n",
       "      <th>Address</th>\n",
       "      <th>Region</th>\n",
       "      <th>Room-type</th>\n",
       "      <th>Building-type</th>\n",
       "      <th>Price</th>\n",
       "    </tr>\n",
       "  </thead>\n",
       "  <tbody>\n",
       "    <tr>\n",
       "      <th>0</th>\n",
       "      <td>170 Gangsa Road</td>\n",
       "      <td>Bukit Batok / Bukit Panjang / Choa Chu Kang (D23)</td>\n",
       "      <td>Common Room</td>\n",
       "      <td>HDB</td>\n",
       "      <td>700</td>\n",
       "    </tr>\n",
       "  </tbody>\n",
       "</table>\n",
       "</div>"
      ],
      "text/plain": [
       "           Address                                             Region  \\\n",
       "0  170 Gangsa Road  Bukit Batok / Bukit Panjang / Choa Chu Kang (D23)   \n",
       "\n",
       "     Room-type Building-type  Price  \n",
       "0  Common Room           HDB    700  "
      ]
     },
     "execution_count": 14,
     "metadata": {},
     "output_type": "execute_result"
    }
   ],
   "source": [
    "# get numerical values only and cast as numpy(int) type\n",
    "co_df['Price'] = co_df['Price'].replace('\\D+', '', regex = True).astype(int)\n",
    "co_df.head(1)"
   ]
  },
  {
   "cell_type": "markdown",
   "metadata": {},
   "source": [
    "#### Region cleaning: e.g 'Eunos/Geylang/Paya Lebar (D12)' --> 'Eunos/Geylang/Paya Lebar'"
   ]
  },
  {
   "cell_type": "code",
   "execution_count": 15,
   "metadata": {},
   "outputs": [
    {
     "data": {
      "text/html": [
       "<div>\n",
       "<style scoped>\n",
       "    .dataframe tbody tr th:only-of-type {\n",
       "        vertical-align: middle;\n",
       "    }\n",
       "\n",
       "    .dataframe tbody tr th {\n",
       "        vertical-align: top;\n",
       "    }\n",
       "\n",
       "    .dataframe thead th {\n",
       "        text-align: right;\n",
       "    }\n",
       "</style>\n",
       "<table border=\"1\" class=\"dataframe\">\n",
       "  <thead>\n",
       "    <tr style=\"text-align: right;\">\n",
       "      <th></th>\n",
       "      <th>Address</th>\n",
       "      <th>Region</th>\n",
       "      <th>Room-type</th>\n",
       "      <th>Building-type</th>\n",
       "      <th>Price</th>\n",
       "    </tr>\n",
       "  </thead>\n",
       "  <tbody>\n",
       "    <tr>\n",
       "      <th>0</th>\n",
       "      <td>170 Gangsa Road</td>\n",
       "      <td>Bukit Batok / Bukit Panjang / Choa Chu Kang</td>\n",
       "      <td>Common Room</td>\n",
       "      <td>HDB</td>\n",
       "      <td>700</td>\n",
       "    </tr>\n",
       "  </tbody>\n",
       "</table>\n",
       "</div>"
      ],
      "text/plain": [
       "           Address                                        Region    Room-type  \\\n",
       "0  170 Gangsa Road  Bukit Batok / Bukit Panjang / Choa Chu Kang   Common Room   \n",
       "\n",
       "  Building-type  Price  \n",
       "0           HDB    700  "
      ]
     },
     "execution_count": 15,
     "metadata": {},
     "output_type": "execute_result"
    }
   ],
   "source": [
    "# Remove district number for string comparison later on\n",
    "for region in co_df['Region']:\n",
    "    # remove special characters and '(DXX)'\n",
    "    clean_region = re.sub(r'\\(.*?\\)', '', region)\n",
    "    co_df['Region'].replace(region, clean_region, inplace=True) # .replace() replaces ALL \n",
    "co_df.head(1)"
   ]
  },
  {
   "cell_type": "markdown",
   "metadata": {},
   "source": [
    "<a id='section3.3'></a>\n",
    "## 3.3 Datagrams for 99co Dataframe\n",
    "### Price distribution: 99co"
   ]
  },
  {
   "cell_type": "code",
   "execution_count": 16,
   "metadata": {},
   "outputs": [
    {
     "data": {
      "text/plain": [
       "<AxesSubplot:title={'center':'General rent prices'}>"
      ]
     },
     "execution_count": 16,
     "metadata": {},
     "output_type": "execute_result"
    },
    {
     "data": {
      "image/png": "[encoded data removed]",
      "text/plain": [
       "<Figure size 1080x144 with 1 Axes>"
      ]
     },
     "metadata": {
      "needs_background": "light"
     },
     "output_type": "display_data"
    }
   ],
   "source": [
    "co_df['Price'].plot(kind='box',y='Price',figsize=(15,2), vert=False, title='General rent prices')"
   ]
  },
  {
   "cell_type": "markdown",
   "metadata": {},
   "source": [
    "### Region distribution: 99co"
   ]
  },
  {
   "cell_type": "code",
   "execution_count": 17,
   "metadata": {
    "scrolled": true
   },
   "outputs": [
    {
     "data": {
      "text/plain": [
       "<AxesSubplot:title={'center':'Region distribution'}>"
      ]
     },
     "execution_count": 17,
     "metadata": {},
     "output_type": "execute_result"
    },
    {
     "data": {
      "image/png": "[encoded data removed]",
      "text/plain": [
       "<Figure size 1440x648 with 1 Axes>"
      ]
     },
     "metadata": {
      "needs_background": "light"
     },
     "output_type": "display_data"
    }
   ],
   "source": [
    "co_df['Region'].value_counts().plot(kind='barh', title='Region distribution', ylabel='',figsize=(20,9))"
   ]
  },
  {
   "cell_type": "code",
   "execution_count": 18,
   "metadata": {
    "scrolled": true
   },
   "outputs": [
    {
     "data": {
      "text/plain": [
       "750.0"
      ]
     },
     "execution_count": 18,
     "metadata": {},
     "output_type": "execute_result"
    }
   ],
   "source": [
    "co_df[co_df['Region'].str.contains('Woodlands')].Price.median()"
   ]
  },
  {
   "cell_type": "markdown",
   "metadata": {},
   "source": [
    "<a id='section4A'></a>\n",
    "## 4.0A Extracting data from 'ilivesg.com'"
   ]
  },
  {
   "cell_type": "code",
   "execution_count": 19,
   "metadata": {},
   "outputs": [],
   "source": [
    "# print(\"Getting request from server..\")\n",
    "# # Filter settings (params) to be passed to GET request\n",
    "# rtype = 1 #[1]-room, [2]-whole unit\n",
    "# ptype_r2 = 2 #[1-condo, [2]-HDB, [3]-landed\n",
    "# page = 0 #[0]-page 1\n",
    "\n",
    "# params = {\n",
    "#     'rtype': rtype,\n",
    "#     'ptype_r2': ptype_r2,\n",
    "#     'page': page\n",
    "# }\n",
    "\n",
    "# # base_url used later\n",
    "# base_url = 'https://www.ilivesg.com'\n",
    "# url = 'https://www.ilivesg.com/rooms-for-rent'\n",
    "# res = requests.get(url, params = params)\n",
    "# soup = bs4.BeautifulSoup(res.text,'html.parser') \n",
    "# # test for positive response\n",
    "# # print(res)\n",
    "\n",
    "\n",
    "# # # =================================================================================\n",
    "# # ### Individual listing hrefs from x pages\n",
    "# # * Individual listing page contains more detailed information about the rent such as region, address etc\n",
    "# # * Loop thru pages ---> retrieve \\<a> containing href link\n",
    "# # #### Note that there is a crawl delay - 10s\n",
    "# # <i>Due to long processing time, max_page will not be used in this scenario. Max number of pages will be capped at 15 .\n",
    "# # The extraction process takes some time (#~approx 500 requests). \n",
    "# #     Wait for the print statement execution.</i>\n",
    "# list_hrefs = []\n",
    "# print(\"Extracting in progress, please wait...\")\n",
    "\n",
    "# for page in range(15):\n",
    "\n",
    "#     try:\n",
    "#         # get all listing url\n",
    "#         # pass in page number to params\n",
    "#         params['page'] = page  \n",
    "#         # get new request based on page num\n",
    "#         res = requests.get(url, params=params)\n",
    "#         soup = bs4.BeautifulSoup(res.text,'html.parser') \n",
    "#         # find all listing url tag\n",
    "#         listings = soup.find_all(class_='thumb')\n",
    "\n",
    "#         # loop thru listings per page\n",
    "#         for list in listings:\n",
    "\n",
    "#             # get indiv listing id href\n",
    "#             href = list.a['href'] \n",
    "#             list_hrefs.append(href)    \n",
    "\n",
    "#     #error handling\n",
    "#     except:\n",
    "#         print(\"Error: Page not found.\")\n",
    "#         print(\"Page may have expired.\")\n",
    "#         print(\"Last page: \"+page)\n",
    "#         break\n",
    "    \n",
    "# print('done')\n",
    "# list_hrefs[:2]"
   ]
  },
  {
   "cell_type": "markdown",
   "metadata": {},
   "source": [
    "### Rent details from each individual listing\n",
    "<i> Same columns as 99co, so that a merge will be possible later on. </i>"
   ]
  },
  {
   "cell_type": "code",
   "execution_count": 20,
   "metadata": {
    "scrolled": true
   },
   "outputs": [],
   "source": [
    "# # Cap number of listings to reduce scraping time due to crawl delay\n",
    "# # takes about 1 minute to crawl\n",
    "# num_of_listings = 100\n",
    "\n",
    "# ilivesg_rent_details = []\n",
    "# counter = 0\n",
    "# print(\"Extracting in progress, please wait...\")\n",
    "\n",
    "# for href in list_hrefs:\n",
    "    \n",
    "#     # counter to track no. of listings crawled\n",
    "#     if counter < num_of_listings:\n",
    "#         # get indiv listing with (base_url + listing href)\n",
    "#         res = requests.get(base_url + href)\n",
    "#         soup = bs4.BeautifulSoup(res.text,'html.parser') \n",
    "\n",
    "#         try:\n",
    "#             # get listing details        \n",
    "#             list_details = soup.find_all(class_= 'item-value')\n",
    "#             # index details (of list_details):\n",
    "#             # [0]-rent price\n",
    "#             # [1]-agent fee\n",
    "#             # [2]-room type (common room)\n",
    "#             # [3]-live in owner\n",
    "#             # [4]-aircon\n",
    "#             # [5]-building type (HDB)\n",
    "#             # [6]-region\n",
    "#             # [7]-address\n",
    "#             # [8]-wifi\n",
    "\n",
    "#             price = list_details[0].text\n",
    "#             room_type = list_details[2].text\n",
    "#             building_type = list_details[5].text\n",
    "#             region = list_details[6].text\n",
    "#             # remove 'singapore' and postal code\n",
    "#             full_address = list_details[7].text.strip()\n",
    "#             address = full_address.split(',')[0]\n",
    "\n",
    "#             # json to store indiv listing details\n",
    "#             details = {\n",
    "#                 'address': address,\n",
    "#                 'region': region,\n",
    "#                 'room_type': room_type,\n",
    "#                 'building_type': building_type,\n",
    "#                 'price': price\n",
    "#             }\n",
    "#             # list to store ALL listings' rent details\n",
    "#             ilivesg_rent_details.append(details)\n",
    "#             # increment counter\n",
    "#             counter+=1\n",
    "\n",
    "#         except:\n",
    "#             print(\"Error: There is no such attribute.\")\n",
    "#             print(\"Listing may have expired.\")\n",
    "#             print(\"Last list: \" + href)\n",
    "#             break\n",
    "\n",
    "# print(\"done\")\n",
    "# ilivesg_rent_details[:1]"
   ]
  },
  {
   "cell_type": "markdown",
   "metadata": {},
   "source": [
    "### Write to json file"
   ]
  },
  {
   "cell_type": "code",
   "execution_count": 21,
   "metadata": {},
   "outputs": [],
   "source": [
    "# # write data to file in case web scraping does not work (e.g region blocked)\n",
    "# with open('ilivesg_data.json', 'w') as f:\n",
    "#     json.dump(ilivesg_rent_details, f)"
   ]
  },
  {
   "cell_type": "markdown",
   "metadata": {},
   "source": [
    "<a id='section4B'></a>\n",
    "## 4.0B Reading from file: parsed ilivesg data\n",
    "* Start from here if 4.0A Extracting data from 'ilivesg' does not work (e.g region blocked)"
   ]
  },
  {
   "cell_type": "code",
   "execution_count": 22,
   "metadata": {},
   "outputs": [],
   "source": [
    "f = open('ilivesg_data.json', 'r')\n",
    "ilivesg_rent_details = json.load(f)"
   ]
  },
  {
   "cell_type": "code",
   "execution_count": 23,
   "metadata": {},
   "outputs": [
    {
     "data": {
      "text/plain": [
       "[{'address': '19 Hougang Ave 3',\n",
       "  'region': 'Hougang',\n",
       "  'room_type': 'Common Room',\n",
       "  'building_type': 'HDB',\n",
       "  'price': 'S$ 590'}]"
      ]
     },
     "execution_count": 23,
     "metadata": {},
     "output_type": "execute_result"
    }
   ],
   "source": [
    "ilivesg_rent_details[:1]"
   ]
  },
  {
   "cell_type": "markdown",
   "metadata": {},
   "source": [
    "<a id='section4.1'></a>\n",
    "## 4.1 Generate ilivesg Dataframe with pandas"
   ]
  },
  {
   "cell_type": "code",
   "execution_count": 24,
   "metadata": {},
   "outputs": [],
   "source": [
    "# generate dataframe and rename columns\n",
    "ilivesg_df = pd.json_normalize(ilivesg_rent_details)\n",
    "ilivesg_df.columns=['Address', 'Region', 'Room-type', 'Building-type', 'Price']\n",
    "# remove duplicates\n",
    "ilivesg_df = ilivesg_df.drop_duplicates()\n",
    "# reset index after removing dupes\n",
    "ilivesg_df = ilivesg_df.reset_index(drop=True)"
   ]
  },
  {
   "cell_type": "code",
   "execution_count": 25,
   "metadata": {},
   "outputs": [
    {
     "data": {
      "text/html": [
       "<div>\n",
       "<style scoped>\n",
       "    .dataframe tbody tr th:only-of-type {\n",
       "        vertical-align: middle;\n",
       "    }\n",
       "\n",
       "    .dataframe tbody tr th {\n",
       "        vertical-align: top;\n",
       "    }\n",
       "\n",
       "    .dataframe thead th {\n",
       "        text-align: right;\n",
       "    }\n",
       "</style>\n",
       "<table border=\"1\" class=\"dataframe\">\n",
       "  <thead>\n",
       "    <tr style=\"text-align: right;\">\n",
       "      <th></th>\n",
       "      <th>Address</th>\n",
       "      <th>Region</th>\n",
       "      <th>Room-type</th>\n",
       "      <th>Building-type</th>\n",
       "      <th>Price</th>\n",
       "    </tr>\n",
       "  </thead>\n",
       "  <tbody>\n",
       "    <tr>\n",
       "      <th>0</th>\n",
       "      <td>19 Hougang Ave 3</td>\n",
       "      <td>Hougang</td>\n",
       "      <td>Common Room</td>\n",
       "      <td>HDB</td>\n",
       "      <td>S$ 590</td>\n",
       "    </tr>\n",
       "    <tr>\n",
       "      <th>1</th>\n",
       "      <td>Pending Road</td>\n",
       "      <td>Bukit Panjang</td>\n",
       "      <td>Common Room</td>\n",
       "      <td>HDB</td>\n",
       "      <td>S$ 800</td>\n",
       "    </tr>\n",
       "  </tbody>\n",
       "</table>\n",
       "</div>"
      ],
      "text/plain": [
       "            Address         Region    Room-type Building-type   Price\n",
       "0  19 Hougang Ave 3        Hougang  Common Room           HDB  S$ 590\n",
       "1      Pending Road  Bukit Panjang  Common Room           HDB  S$ 800"
      ]
     },
     "execution_count": 25,
     "metadata": {},
     "output_type": "execute_result"
    }
   ],
   "source": [
    "ilivesg_df.head(2)"
   ]
  },
  {
   "cell_type": "markdown",
   "metadata": {},
   "source": [
    "<a id='section4.2'></a>\n",
    "## 4.2 Data Cleaning\n",
    "* Most of the extracted data is already clean based off the website\n",
    "* Only price needs to be cleaned\n",
    "\n",
    "#### Price cleaning: e.g $600 --> 600"
   ]
  },
  {
   "cell_type": "code",
   "execution_count": 26,
   "metadata": {},
   "outputs": [],
   "source": [
    "# get numerical values only and cast as numpy(int) type\n",
    "ilivesg_df['Price'] = ilivesg_df['Price'].replace('\\D+', '', regex = True).astype(int)"
   ]
  },
  {
   "cell_type": "code",
   "execution_count": 27,
   "metadata": {
    "scrolled": true
   },
   "outputs": [
    {
     "data": {
      "text/html": [
       "<div>\n",
       "<style scoped>\n",
       "    .dataframe tbody tr th:only-of-type {\n",
       "        vertical-align: middle;\n",
       "    }\n",
       "\n",
       "    .dataframe tbody tr th {\n",
       "        vertical-align: top;\n",
       "    }\n",
       "\n",
       "    .dataframe thead th {\n",
       "        text-align: right;\n",
       "    }\n",
       "</style>\n",
       "<table border=\"1\" class=\"dataframe\">\n",
       "  <thead>\n",
       "    <tr style=\"text-align: right;\">\n",
       "      <th></th>\n",
       "      <th>Address</th>\n",
       "      <th>Region</th>\n",
       "      <th>Room-type</th>\n",
       "      <th>Building-type</th>\n",
       "      <th>Price</th>\n",
       "    </tr>\n",
       "  </thead>\n",
       "  <tbody>\n",
       "    <tr>\n",
       "      <th>0</th>\n",
       "      <td>19 Hougang Ave 3</td>\n",
       "      <td>Hougang</td>\n",
       "      <td>Common Room</td>\n",
       "      <td>HDB</td>\n",
       "      <td>590</td>\n",
       "    </tr>\n",
       "    <tr>\n",
       "      <th>1</th>\n",
       "      <td>Pending Road</td>\n",
       "      <td>Bukit Panjang</td>\n",
       "      <td>Common Room</td>\n",
       "      <td>HDB</td>\n",
       "      <td>800</td>\n",
       "    </tr>\n",
       "  </tbody>\n",
       "</table>\n",
       "</div>"
      ],
      "text/plain": [
       "            Address         Region    Room-type Building-type  Price\n",
       "0  19 Hougang Ave 3        Hougang  Common Room           HDB    590\n",
       "1      Pending Road  Bukit Panjang  Common Room           HDB    800"
      ]
     },
     "execution_count": 27,
     "metadata": {},
     "output_type": "execute_result"
    }
   ],
   "source": [
    "ilivesg_df.head(2)"
   ]
  },
  {
   "cell_type": "markdown",
   "metadata": {},
   "source": [
    "<a id='section4.3'></a>\n",
    "## 4.3 Datagrams for ilivesg Dataframe\n",
    "### Price distribution: ilivesg"
   ]
  },
  {
   "cell_type": "code",
   "execution_count": 28,
   "metadata": {},
   "outputs": [
    {
     "data": {
      "text/plain": [
       "<AxesSubplot:title={'center':'General rent prices'}>"
      ]
     },
     "execution_count": 28,
     "metadata": {},
     "output_type": "execute_result"
    },
    {
     "data": {
      "image/png": "[encoded data removed]",
      "text/plain": [
       "<Figure size 1080x144 with 1 Axes>"
      ]
     },
     "metadata": {
      "needs_background": "light"
     },
     "output_type": "display_data"
    }
   ],
   "source": [
    "ilivesg_df['Price'].plot(kind='box',y='Price',figsize=(15,2), vert=False, title='General rent prices')"
   ]
  },
  {
   "cell_type": "markdown",
   "metadata": {},
   "source": [
    "### Region distribution: ilivesg"
   ]
  },
  {
   "cell_type": "code",
   "execution_count": 29,
   "metadata": {},
   "outputs": [
    {
     "data": {
      "text/plain": [
       "<AxesSubplot:title={'center':'Region distribution'}>"
      ]
     },
     "execution_count": 29,
     "metadata": {},
     "output_type": "execute_result"
    },
    {
     "data": {
      "image/png": "[encoded data removed]",
      "text/plain": [
       "<Figure size 1440x1800 with 1 Axes>"
      ]
     },
     "metadata": {
      "needs_background": "light"
     },
     "output_type": "display_data"
    }
   ],
   "source": [
    "ilivesg_df['Region'].value_counts().plot(kind='barh', title='Region distribution', ylabel='',figsize=(20,25))"
   ]
  },
  {
   "cell_type": "code",
   "execution_count": 30,
   "metadata": {},
   "outputs": [
    {
     "data": {
      "text/plain": [
       "800.0"
      ]
     },
     "execution_count": 30,
     "metadata": {},
     "output_type": "execute_result"
    }
   ],
   "source": [
    "ilivesg_df[ilivesg_df['Region'].str.contains('Ang Mo Kio')].Price.median()"
   ]
  },
  {
   "cell_type": "markdown",
   "metadata": {},
   "source": [
    "<a id='section5'></a>\n",
    "## 5.0 Concatenate Dataframes (99co & ilivesg)"
   ]
  },
  {
   "cell_type": "code",
   "execution_count": 31,
   "metadata": {},
   "outputs": [],
   "source": [
    "# vertical concat for more detailed analysis\n",
    "concat_df = pd.concat([co_df, ilivesg_df], axis=0)\n",
    "concat_df = concat_df.reset_index(drop=True)"
   ]
  },
  {
   "cell_type": "code",
   "execution_count": 32,
   "metadata": {},
   "outputs": [
    {
     "data": {
      "text/html": [
       "<div>\n",
       "<style scoped>\n",
       "    .dataframe tbody tr th:only-of-type {\n",
       "        vertical-align: middle;\n",
       "    }\n",
       "\n",
       "    .dataframe tbody tr th {\n",
       "        vertical-align: top;\n",
       "    }\n",
       "\n",
       "    .dataframe thead th {\n",
       "        text-align: right;\n",
       "    }\n",
       "</style>\n",
       "<table border=\"1\" class=\"dataframe\">\n",
       "  <thead>\n",
       "    <tr style=\"text-align: right;\">\n",
       "      <th></th>\n",
       "      <th>Address</th>\n",
       "      <th>Region</th>\n",
       "      <th>Room-type</th>\n",
       "      <th>Building-type</th>\n",
       "      <th>Price</th>\n",
       "    </tr>\n",
       "  </thead>\n",
       "  <tbody>\n",
       "    <tr>\n",
       "      <th>0</th>\n",
       "      <td>170 Gangsa Road</td>\n",
       "      <td>Bukit Batok / Bukit Panjang / Choa Chu Kang</td>\n",
       "      <td>Common Room</td>\n",
       "      <td>HDB</td>\n",
       "      <td>700</td>\n",
       "    </tr>\n",
       "    <tr>\n",
       "      <th>1</th>\n",
       "      <td>319B Anchorvale Drive</td>\n",
       "      <td>Hougang / Punggol / Sengkang</td>\n",
       "      <td>Common Room</td>\n",
       "      <td>HDB</td>\n",
       "      <td>800</td>\n",
       "    </tr>\n",
       "    <tr>\n",
       "      <th>2</th>\n",
       "      <td>635 Woodlands Ring Road</td>\n",
       "      <td>Admiralty / Woodlands</td>\n",
       "      <td>Common Room</td>\n",
       "      <td>HDB</td>\n",
       "      <td>700</td>\n",
       "    </tr>\n",
       "    <tr>\n",
       "      <th>3</th>\n",
       "      <td>666A Yishun Avenue 4</td>\n",
       "      <td>Sembawang / Yishun</td>\n",
       "      <td>Common Room</td>\n",
       "      <td>HDB</td>\n",
       "      <td>800</td>\n",
       "    </tr>\n",
       "    <tr>\n",
       "      <th>4</th>\n",
       "      <td>780D Woodlands Crescent</td>\n",
       "      <td>Admiralty / Woodlands</td>\n",
       "      <td>Common Room</td>\n",
       "      <td>HDB</td>\n",
       "      <td>750</td>\n",
       "    </tr>\n",
       "    <tr>\n",
       "      <th>...</th>\n",
       "      <td>...</td>\n",
       "      <td>...</td>\n",
       "      <td>...</td>\n",
       "      <td>...</td>\n",
       "      <td>...</td>\n",
       "    </tr>\n",
       "    <tr>\n",
       "      <th>191</th>\n",
       "      <td>106 Jalan Dusun</td>\n",
       "      <td>Balestier (Novena)</td>\n",
       "      <td>Master Room</td>\n",
       "      <td>HDB</td>\n",
       "      <td>850</td>\n",
       "    </tr>\n",
       "    <tr>\n",
       "      <th>192</th>\n",
       "      <td>601A 601a Punggol Drive</td>\n",
       "      <td>Punggol</td>\n",
       "      <td>Common Room</td>\n",
       "      <td>HDB</td>\n",
       "      <td>730</td>\n",
       "    </tr>\n",
       "    <tr>\n",
       "      <th>193</th>\n",
       "      <td>422 Ang Mo Kio Avenue 3</td>\n",
       "      <td>Ang Mo Kio</td>\n",
       "      <td>Common Room</td>\n",
       "      <td>HDB</td>\n",
       "      <td>450</td>\n",
       "    </tr>\n",
       "    <tr>\n",
       "      <th>194</th>\n",
       "      <td>20B Punggol Field</td>\n",
       "      <td>Punggol Field (Punggol)</td>\n",
       "      <td>Common Room</td>\n",
       "      <td>HDB</td>\n",
       "      <td>600</td>\n",
       "    </tr>\n",
       "    <tr>\n",
       "      <th>195</th>\n",
       "      <td>671 Choa Chu Kang Crescent</td>\n",
       "      <td>Yew Tee (Choa Chu Kang)</td>\n",
       "      <td>Common Room</td>\n",
       "      <td>HDB</td>\n",
       "      <td>620</td>\n",
       "    </tr>\n",
       "  </tbody>\n",
       "</table>\n",
       "<p>196 rows × 5 columns</p>\n",
       "</div>"
      ],
      "text/plain": [
       "                        Address                                        Region  \\\n",
       "0               170 Gangsa Road  Bukit Batok / Bukit Panjang / Choa Chu Kang    \n",
       "1         319B Anchorvale Drive                 Hougang / Punggol / Sengkang    \n",
       "2       635 Woodlands Ring Road                        Admiralty / Woodlands    \n",
       "3          666A Yishun Avenue 4                           Sembawang / Yishun    \n",
       "4       780D Woodlands Crescent                        Admiralty / Woodlands    \n",
       "..                          ...                                           ...   \n",
       "191             106 Jalan Dusun                            Balestier (Novena)   \n",
       "192     601A 601a Punggol Drive                                       Punggol   \n",
       "193     422 Ang Mo Kio Avenue 3                                    Ang Mo Kio   \n",
       "194           20B Punggol Field                       Punggol Field (Punggol)   \n",
       "195  671 Choa Chu Kang Crescent                       Yew Tee (Choa Chu Kang)   \n",
       "\n",
       "       Room-type Building-type  Price  \n",
       "0    Common Room           HDB    700  \n",
       "1    Common Room           HDB    800  \n",
       "2    Common Room           HDB    700  \n",
       "3    Common Room           HDB    800  \n",
       "4    Common Room           HDB    750  \n",
       "..           ...           ...    ...  \n",
       "191  Master Room           HDB    850  \n",
       "192  Common Room           HDB    730  \n",
       "193  Common Room           HDB    450  \n",
       "194  Common Room           HDB    600  \n",
       "195  Common Room           HDB    620  \n",
       "\n",
       "[196 rows x 5 columns]"
      ]
     },
     "execution_count": 32,
     "metadata": {},
     "output_type": "execute_result"
    }
   ],
   "source": [
    "concat_df"
   ]
  },
  {
   "cell_type": "markdown",
   "metadata": {},
   "source": [
    "<a id='section5.1'></a>\n",
    "## 5.1 Datagrams for Concat Dataframe\n",
    "### Price distribution: overall"
   ]
  },
  {
   "cell_type": "code",
   "execution_count": 33,
   "metadata": {},
   "outputs": [
    {
     "data": {
      "text/plain": [
       "<AxesSubplot:title={'center':'General rent prices'}>"
      ]
     },
     "execution_count": 33,
     "metadata": {},
     "output_type": "execute_result"
    },
    {
     "data": {
      "image/png": "[encoded data removed]",
      "text/plain": [
       "<Figure size 1080x144 with 1 Axes>"
      ]
     },
     "metadata": {
      "needs_background": "light"
     },
     "output_type": "display_data"
    }
   ],
   "source": [
    "concat_df['Price'].plot(kind='box',y='Price',figsize=(15,2), vert=False, title='General rent prices')"
   ]
  },
  {
   "cell_type": "markdown",
   "metadata": {},
   "source": [
    "### Comparison of overall prices between online property platforms 99co and ilivesg\n",
    "* ilivesg has a lower median price"
   ]
  },
  {
   "cell_type": "code",
   "execution_count": 34,
   "metadata": {},
   "outputs": [
    {
     "data": {
      "text/plain": [
       "<AxesSubplot:title={'center':'Median Overall rental Prices'}>"
      ]
     },
     "execution_count": 34,
     "metadata": {},
     "output_type": "execute_result"
    },
    {
     "data": {
      "image/png": "[encoded data removed]",
      "text/plain": [
       "<Figure size 1080x432 with 1 Axes>"
      ]
     },
     "metadata": {
      "needs_background": "light"
     },
     "output_type": "display_data"
    }
   ],
   "source": [
    "median_overall_plt = co_df['Price'].describe().compare(ilivesg_df['Price'].describe())\n",
    "median_overall_plt.columns = ['99co', 'ilivesg']\n",
    "median_overall_plt.plot(kind = 'bar', title = 'Median Overall rental Prices', figsize=(15,6), rot=0)"
   ]
  },
  {
   "cell_type": "markdown",
   "metadata": {},
   "source": [
    "<a id='section6'></a>\n",
    "## 6.0 Carousell's 2019 Average Rental Prices: HDB Rooms \n",
    "* The most recent historical dataset on rental prices was by Carousell in 2019, which was a rough estimate for the prices in 2020.\n",
    "* Based on this dataset, a comparison will be done to current market standings in 2021\n",
    "* src = https://blog.carousell.com/property/hdb-room-rental-cost/\n",
    "\n",
    "### Generate Dataframe for Carousell's report"
   ]
  },
  {
   "cell_type": "code",
   "execution_count": 35,
   "metadata": {
    "scrolled": false
   },
   "outputs": [
    {
     "data": {
      "text/html": [
       "<div>\n",
       "<style scoped>\n",
       "    .dataframe tbody tr th:only-of-type {\n",
       "        vertical-align: middle;\n",
       "    }\n",
       "\n",
       "    .dataframe tbody tr th {\n",
       "        vertical-align: top;\n",
       "    }\n",
       "\n",
       "    .dataframe thead th {\n",
       "        text-align: right;\n",
       "    }\n",
       "</style>\n",
       "<table border=\"1\" class=\"dataframe\">\n",
       "  <thead>\n",
       "    <tr style=\"text-align: right;\">\n",
       "      <th></th>\n",
       "      <th>Town</th>\n",
       "      <th>Common Room</th>\n",
       "      <th>Master Room</th>\n",
       "    </tr>\n",
       "  </thead>\n",
       "  <tbody>\n",
       "    <tr>\n",
       "      <th>0</th>\n",
       "      <td>Ang Mo Kio</td>\n",
       "      <td>$600</td>\n",
       "      <td>$910</td>\n",
       "    </tr>\n",
       "    <tr>\n",
       "      <th>1</th>\n",
       "      <td>Bedok</td>\n",
       "      <td>$600</td>\n",
       "      <td>$910</td>\n",
       "    </tr>\n",
       "  </tbody>\n",
       "</table>\n",
       "</div>"
      ],
      "text/plain": [
       "         Town Common Room Master Room\n",
       "0  Ang Mo Kio        $600        $910\n",
       "1       Bedok        $600        $910"
      ]
     },
     "execution_count": 35,
     "metadata": {},
     "output_type": "execute_result"
    }
   ],
   "source": [
    "avgRent_df=pd.read_csv('carousell2019hdbrooms.csv')\n",
    "avgRent_df.head(2)"
   ]
  },
  {
   "cell_type": "markdown",
   "metadata": {},
   "source": [
    "<a id='section6.1'></a>\n",
    "## 6.1 Median Price Comparison"
   ]
  },
  {
   "cell_type": "markdown",
   "metadata": {},
   "source": [
    "### Calculate median prices of [99co + ilivesg dataframe] based on Town/Region"
   ]
  },
  {
   "cell_type": "code",
   "execution_count": 36,
   "metadata": {},
   "outputs": [],
   "source": [
    "# Get values from dataframe\n",
    "towns = []\n",
    "# retrieve Common Room prices based on town\n",
    "for t in avgRent_df['Town']:\n",
    "    # get values from avgRent_df \n",
    "    # json to store details\n",
    "    town = {\n",
    "        'town': t,\n",
    "        'price_sum': 0,\n",
    "        'counter': 0\n",
    "    }\n",
    "    # list to store all Common Room prices based on town\n",
    "    towns.append(town)"
   ]
  },
  {
   "cell_type": "code",
   "execution_count": 37,
   "metadata": {},
   "outputs": [],
   "source": [
    "# Calculate sum of common room prices of [99co + ilivesg dataframe] based on town/region\n",
    "\n",
    "#list[1] - region\n",
    "#list[4] - price\n",
    "\n",
    "# only compare 'Common Room' room types\n",
    "# get values from concat_df\n",
    "for list in concat_df[concat_df['Room-type'] == ('Common Room')].values:\n",
    "    for t in towns:\n",
    "        # Update towns[] numbers for calculation\n",
    "        if t['town'] in list[1]:\n",
    "            t['price_sum'] += list[4] #sum of total listing prices (for region)\n",
    "            t['counter']+=1 #no. of listings"
   ]
  },
  {
   "cell_type": "code",
   "execution_count": 38,
   "metadata": {},
   "outputs": [],
   "source": [
    "# Calculate median prices of [99co + ilivesg dataframe] based on town/region\n",
    "\n",
    "for t in towns:\n",
    "    #check for empty cell\n",
    "    if t['counter'] != 0:\n",
    "        #calculate price increment\n",
    "        median_price = t['price_sum']/t['counter']\n",
    "        #create new key/value in list\n",
    "        t['median_price']= median_price"
   ]
  },
  {
   "cell_type": "code",
   "execution_count": 39,
   "metadata": {},
   "outputs": [
    {
     "data": {
      "text/plain": [
       "[{'town': 'Ang Mo Kio',\n",
       "  'price_sum': 6130,\n",
       "  'counter': 9,\n",
       "  'median_price': 681.1111111111111},\n",
       " {'town': 'Bedok', 'price_sum': 3580, 'counter': 5, 'median_price': 716.0}]"
      ]
     },
     "execution_count": 39,
     "metadata": {},
     "output_type": "execute_result"
    }
   ],
   "source": [
    "towns[:2]"
   ]
  },
  {
   "cell_type": "markdown",
   "metadata": {},
   "source": [
    "### Generate Dataframe for Median prices for [99co and ilivesg]"
   ]
  },
  {
   "cell_type": "code",
   "execution_count": 40,
   "metadata": {},
   "outputs": [],
   "source": [
    "median_toMerge = pd.json_normalize(towns)\n",
    "# remove excess column (sum of all prices)\n",
    "median_toMerge = median_toMerge.drop(columns = 'price_sum')\n",
    "median_toMerge.columns=['Town', 'No. of listings', 'Median Price']"
   ]
  },
  {
   "cell_type": "code",
   "execution_count": 41,
   "metadata": {},
   "outputs": [
    {
     "data": {
      "text/html": [
       "<div>\n",
       "<style scoped>\n",
       "    .dataframe tbody tr th:only-of-type {\n",
       "        vertical-align: middle;\n",
       "    }\n",
       "\n",
       "    .dataframe tbody tr th {\n",
       "        vertical-align: top;\n",
       "    }\n",
       "\n",
       "    .dataframe thead th {\n",
       "        text-align: right;\n",
       "    }\n",
       "</style>\n",
       "<table border=\"1\" class=\"dataframe\">\n",
       "  <thead>\n",
       "    <tr style=\"text-align: right;\">\n",
       "      <th></th>\n",
       "      <th>Town</th>\n",
       "      <th>No. of listings</th>\n",
       "      <th>Median Price</th>\n",
       "    </tr>\n",
       "  </thead>\n",
       "  <tbody>\n",
       "    <tr>\n",
       "      <th>0</th>\n",
       "      <td>Ang Mo Kio</td>\n",
       "      <td>9</td>\n",
       "      <td>681.111111</td>\n",
       "    </tr>\n",
       "    <tr>\n",
       "      <th>1</th>\n",
       "      <td>Bedok</td>\n",
       "      <td>5</td>\n",
       "      <td>716.000000</td>\n",
       "    </tr>\n",
       "  </tbody>\n",
       "</table>\n",
       "</div>"
      ],
      "text/plain": [
       "         Town  No. of listings  Median Price\n",
       "0  Ang Mo Kio                9    681.111111\n",
       "1       Bedok                5    716.000000"
      ]
     },
     "execution_count": 41,
     "metadata": {},
     "output_type": "execute_result"
    }
   ],
   "source": [
    "median_toMerge.head(2)"
   ]
  },
  {
   "cell_type": "markdown",
   "metadata": {},
   "source": [
    "### Merge all median prices together (2019 report, 99co and ilivesg)"
   ]
  },
  {
   "cell_type": "code",
   "execution_count": 42,
   "metadata": {},
   "outputs": [],
   "source": [
    "#merge on column 'town'\n",
    "median_df = median_toMerge.merge(avgRent_df, on='Town')\n",
    "#remove 'Master Room' column (only taking 'Common Room' for easy comparison)\n",
    "median_df = median_df.drop(columns = ['Master Room'])\n",
    "#rearrange columns\n",
    "median_df = median_df[['Town','No. of listings', 'Common Room', 'Median Price']]"
   ]
  },
  {
   "cell_type": "code",
   "execution_count": 43,
   "metadata": {},
   "outputs": [
    {
     "data": {
      "text/html": [
       "<div>\n",
       "<style scoped>\n",
       "    .dataframe tbody tr th:only-of-type {\n",
       "        vertical-align: middle;\n",
       "    }\n",
       "\n",
       "    .dataframe tbody tr th {\n",
       "        vertical-align: top;\n",
       "    }\n",
       "\n",
       "    .dataframe thead th {\n",
       "        text-align: right;\n",
       "    }\n",
       "</style>\n",
       "<table border=\"1\" class=\"dataframe\">\n",
       "  <thead>\n",
       "    <tr style=\"text-align: right;\">\n",
       "      <th></th>\n",
       "      <th>Town</th>\n",
       "      <th>No. of listings</th>\n",
       "      <th>Common Room</th>\n",
       "      <th>Median Price</th>\n",
       "    </tr>\n",
       "  </thead>\n",
       "  <tbody>\n",
       "    <tr>\n",
       "      <th>0</th>\n",
       "      <td>Ang Mo Kio</td>\n",
       "      <td>9</td>\n",
       "      <td>$600</td>\n",
       "      <td>681.111111</td>\n",
       "    </tr>\n",
       "    <tr>\n",
       "      <th>1</th>\n",
       "      <td>Bedok</td>\n",
       "      <td>5</td>\n",
       "      <td>$600</td>\n",
       "      <td>716.000000</td>\n",
       "    </tr>\n",
       "    <tr>\n",
       "      <th>2</th>\n",
       "      <td>Bishan</td>\n",
       "      <td>7</td>\n",
       "      <td>$660</td>\n",
       "      <td>757.142857</td>\n",
       "    </tr>\n",
       "  </tbody>\n",
       "</table>\n",
       "</div>"
      ],
      "text/plain": [
       "         Town  No. of listings Common Room  Median Price\n",
       "0  Ang Mo Kio                9        $600    681.111111\n",
       "1       Bedok                5        $600    716.000000\n",
       "2      Bishan                7        $660    757.142857"
      ]
     },
     "execution_count": 43,
     "metadata": {},
     "output_type": "execute_result"
    }
   ],
   "source": [
    "median_df.head(3)"
   ]
  },
  {
   "cell_type": "markdown",
   "metadata": {},
   "source": [
    "<a id='section6.2'></a>\n",
    "## 6.2 Data Cleaning"
   ]
  },
  {
   "cell_type": "code",
   "execution_count": 44,
   "metadata": {},
   "outputs": [],
   "source": [
    "# reaplce all NaN values with 0, remove invalid entries\n",
    "median_df = median_df.fillna(0)"
   ]
  },
  {
   "cell_type": "markdown",
   "metadata": {},
   "source": [
    "#### Price Cleaning: e.g $600 --> 600"
   ]
  },
  {
   "cell_type": "code",
   "execution_count": 45,
   "metadata": {},
   "outputs": [],
   "source": [
    "# get numerical values only and cast as numpy(int) type\n",
    "median_df[['Common Room', 'Median Price']] = median_df[['Common Room','Median Price']].replace('\\D+', '', regex = True).astype(int)"
   ]
  },
  {
   "cell_type": "code",
   "execution_count": 46,
   "metadata": {},
   "outputs": [],
   "source": [
    "# cast values to numpy int for same type comparison\n",
    "median_df[['Common Room','Median Price']] = median_df[['Common Room','Median Price']].astype(np.int)"
   ]
  },
  {
   "cell_type": "code",
   "execution_count": 47,
   "metadata": {
    "scrolled": true
   },
   "outputs": [
    {
     "data": {
      "text/html": [
       "<div>\n",
       "<style scoped>\n",
       "    .dataframe tbody tr th:only-of-type {\n",
       "        vertical-align: middle;\n",
       "    }\n",
       "\n",
       "    .dataframe tbody tr th {\n",
       "        vertical-align: top;\n",
       "    }\n",
       "\n",
       "    .dataframe thead th {\n",
       "        text-align: right;\n",
       "    }\n",
       "</style>\n",
       "<table border=\"1\" class=\"dataframe\">\n",
       "  <thead>\n",
       "    <tr style=\"text-align: right;\">\n",
       "      <th></th>\n",
       "      <th>Town</th>\n",
       "      <th>No. of listings</th>\n",
       "      <th>Common Room</th>\n",
       "      <th>Median Price</th>\n",
       "    </tr>\n",
       "  </thead>\n",
       "  <tbody>\n",
       "    <tr>\n",
       "      <th>0</th>\n",
       "      <td>Ang Mo Kio</td>\n",
       "      <td>9</td>\n",
       "      <td>600</td>\n",
       "      <td>681</td>\n",
       "    </tr>\n",
       "    <tr>\n",
       "      <th>1</th>\n",
       "      <td>Bedok</td>\n",
       "      <td>5</td>\n",
       "      <td>600</td>\n",
       "      <td>716</td>\n",
       "    </tr>\n",
       "  </tbody>\n",
       "</table>\n",
       "</div>"
      ],
      "text/plain": [
       "         Town  No. of listings  Common Room  Median Price\n",
       "0  Ang Mo Kio                9          600           681\n",
       "1       Bedok                5          600           716"
      ]
     },
     "execution_count": 47,
     "metadata": {},
     "output_type": "execute_result"
    }
   ],
   "source": [
    "median_df.head(2)"
   ]
  },
  {
   "cell_type": "markdown",
   "metadata": {},
   "source": [
    "### Top 5 rent listings & Lowest overall median price based on region"
   ]
  },
  {
   "cell_type": "code",
   "execution_count": 48,
   "metadata": {
    "scrolled": true
   },
   "outputs": [
    {
     "data": {
      "text/html": [
       "<style  type=\"text/css\" >\n",
       "</style><table id=\"T_604cace0_dd8c_11eb_97d8_acde48001122\" style='display:inline'><caption>Top 5 rent listings based on Region</caption><thead>    <tr>        <th class=\"blank level0\" ></th>        <th class=\"col_heading level0 col0\" >Town</th>        <th class=\"col_heading level0 col1\" >No. of listings</th>        <th class=\"col_heading level0 col2\" >Common Room</th>        <th class=\"col_heading level0 col3\" >Median Price</th>    </tr></thead><tbody>\n",
       "                <tr>\n",
       "                        <th id=\"T_604cace0_dd8c_11eb_97d8_acde48001122level0_row0\" class=\"row_heading level0 row0\" >0</th>\n",
       "                        <td id=\"T_604cace0_dd8c_11eb_97d8_acde48001122row0_col0\" class=\"data row0 col0\" >Hougang</td>\n",
       "                        <td id=\"T_604cace0_dd8c_11eb_97d8_acde48001122row0_col1\" class=\"data row0 col1\" >29</td>\n",
       "                        <td id=\"T_604cace0_dd8c_11eb_97d8_acde48001122row0_col2\" class=\"data row0 col2\" >550</td>\n",
       "                        <td id=\"T_604cace0_dd8c_11eb_97d8_acde48001122row0_col3\" class=\"data row0 col3\" >668</td>\n",
       "            </tr>\n",
       "            <tr>\n",
       "                        <th id=\"T_604cace0_dd8c_11eb_97d8_acde48001122level0_row1\" class=\"row_heading level0 row1\" >1</th>\n",
       "                        <td id=\"T_604cace0_dd8c_11eb_97d8_acde48001122row1_col0\" class=\"data row1 col0\" >Punggol</td>\n",
       "                        <td id=\"T_604cace0_dd8c_11eb_97d8_acde48001122row1_col1\" class=\"data row1 col1\" >27</td>\n",
       "                        <td id=\"T_604cace0_dd8c_11eb_97d8_acde48001122row1_col2\" class=\"data row1 col2\" >520</td>\n",
       "                        <td id=\"T_604cace0_dd8c_11eb_97d8_acde48001122row1_col3\" class=\"data row1 col3\" >669</td>\n",
       "            </tr>\n",
       "            <tr>\n",
       "                        <th id=\"T_604cace0_dd8c_11eb_97d8_acde48001122level0_row2\" class=\"row_heading level0 row2\" >2</th>\n",
       "                        <td id=\"T_604cace0_dd8c_11eb_97d8_acde48001122row2_col0\" class=\"data row2 col0\" >Tampines</td>\n",
       "                        <td id=\"T_604cace0_dd8c_11eb_97d8_acde48001122row2_col1\" class=\"data row2 col1\" >26</td>\n",
       "                        <td id=\"T_604cace0_dd8c_11eb_97d8_acde48001122row2_col2\" class=\"data row2 col2\" >580</td>\n",
       "                        <td id=\"T_604cace0_dd8c_11eb_97d8_acde48001122row2_col3\" class=\"data row2 col3\" >723</td>\n",
       "            </tr>\n",
       "            <tr>\n",
       "                        <th id=\"T_604cace0_dd8c_11eb_97d8_acde48001122level0_row3\" class=\"row_heading level0 row3\" >3</th>\n",
       "                        <td id=\"T_604cace0_dd8c_11eb_97d8_acde48001122row3_col0\" class=\"data row3 col0\" >Sengkang</td>\n",
       "                        <td id=\"T_604cace0_dd8c_11eb_97d8_acde48001122row3_col1\" class=\"data row3 col1\" >25</td>\n",
       "                        <td id=\"T_604cace0_dd8c_11eb_97d8_acde48001122row3_col2\" class=\"data row3 col2\" >520</td>\n",
       "                        <td id=\"T_604cace0_dd8c_11eb_97d8_acde48001122row3_col3\" class=\"data row3 col3\" >663</td>\n",
       "            </tr>\n",
       "            <tr>\n",
       "                        <th id=\"T_604cace0_dd8c_11eb_97d8_acde48001122level0_row4\" class=\"row_heading level0 row4\" >4</th>\n",
       "                        <td id=\"T_604cace0_dd8c_11eb_97d8_acde48001122row4_col0\" class=\"data row4 col0\" >Pasir Ris</td>\n",
       "                        <td id=\"T_604cace0_dd8c_11eb_97d8_acde48001122row4_col1\" class=\"data row4 col1\" >20</td>\n",
       "                        <td id=\"T_604cace0_dd8c_11eb_97d8_acde48001122row4_col2\" class=\"data row4 col2\" >550</td>\n",
       "                        <td id=\"T_604cace0_dd8c_11eb_97d8_acde48001122row4_col3\" class=\"data row4 col3\" >728</td>\n",
       "            </tr>\n",
       "    </tbody></table>"
      ],
      "text/plain": [
       "<pandas.io.formats.style.Styler at 0x7fc105216340>"
      ]
     },
     "metadata": {},
     "output_type": "display_data"
    },
    {
     "data": {
      "text/html": [
       "<style  type=\"text/css\" >\n",
       "</style><table id=\"T_604d3cd2_dd8c_11eb_97d8_acde48001122\" style='display:inline'><caption>Top 5 lowest rent prices</caption><thead>    <tr>        <th class=\"blank level0\" ></th>        <th class=\"col_heading level0 col0\" >Town</th>        <th class=\"col_heading level0 col1\" >No. of listings</th>        <th class=\"col_heading level0 col2\" >Common Room</th>        <th class=\"col_heading level0 col3\" >Median Price</th>    </tr></thead><tbody>\n",
       "                <tr>\n",
       "                        <th id=\"T_604d3cd2_dd8c_11eb_97d8_acde48001122level0_row0\" class=\"row_heading level0 row0\" >0</th>\n",
       "                        <td id=\"T_604d3cd2_dd8c_11eb_97d8_acde48001122row0_col0\" class=\"data row0 col0\" >Queenstown</td>\n",
       "                        <td id=\"T_604d3cd2_dd8c_11eb_97d8_acde48001122row0_col1\" class=\"data row0 col1\" >4</td>\n",
       "                        <td id=\"T_604d3cd2_dd8c_11eb_97d8_acde48001122row0_col2\" class=\"data row0 col2\" >750</td>\n",
       "                        <td id=\"T_604d3cd2_dd8c_11eb_97d8_acde48001122row0_col3\" class=\"data row0 col3\" >470</td>\n",
       "            </tr>\n",
       "            <tr>\n",
       "                        <th id=\"T_604d3cd2_dd8c_11eb_97d8_acde48001122level0_row1\" class=\"row_heading level0 row1\" >1</th>\n",
       "                        <td id=\"T_604d3cd2_dd8c_11eb_97d8_acde48001122row1_col0\" class=\"data row1 col0\" >Serangoon</td>\n",
       "                        <td id=\"T_604d3cd2_dd8c_11eb_97d8_acde48001122row1_col1\" class=\"data row1 col1\" >1</td>\n",
       "                        <td id=\"T_604d3cd2_dd8c_11eb_97d8_acde48001122row1_col2\" class=\"data row1 col2\" >630</td>\n",
       "                        <td id=\"T_604d3cd2_dd8c_11eb_97d8_acde48001122row1_col3\" class=\"data row1 col3\" >500</td>\n",
       "            </tr>\n",
       "            <tr>\n",
       "                        <th id=\"T_604d3cd2_dd8c_11eb_97d8_acde48001122level0_row2\" class=\"row_heading level0 row2\" >2</th>\n",
       "                        <td id=\"T_604d3cd2_dd8c_11eb_97d8_acde48001122row2_col0\" class=\"data row2 col0\" >Choa Chu Kang</td>\n",
       "                        <td id=\"T_604d3cd2_dd8c_11eb_97d8_acde48001122row2_col1\" class=\"data row2 col1\" >14</td>\n",
       "                        <td id=\"T_604d3cd2_dd8c_11eb_97d8_acde48001122row2_col2\" class=\"data row2 col2\" >500</td>\n",
       "                        <td id=\"T_604d3cd2_dd8c_11eb_97d8_acde48001122row2_col3\" class=\"data row2 col3\" >630</td>\n",
       "            </tr>\n",
       "            <tr>\n",
       "                        <th id=\"T_604d3cd2_dd8c_11eb_97d8_acde48001122level0_row3\" class=\"row_heading level0 row3\" >3</th>\n",
       "                        <td id=\"T_604d3cd2_dd8c_11eb_97d8_acde48001122row3_col0\" class=\"data row3 col0\" >Sembawang</td>\n",
       "                        <td id=\"T_604d3cd2_dd8c_11eb_97d8_acde48001122row3_col1\" class=\"data row3 col1\" >7</td>\n",
       "                        <td id=\"T_604d3cd2_dd8c_11eb_97d8_acde48001122row3_col2\" class=\"data row3 col2\" >520</td>\n",
       "                        <td id=\"T_604d3cd2_dd8c_11eb_97d8_acde48001122row3_col3\" class=\"data row3 col3\" >632</td>\n",
       "            </tr>\n",
       "            <tr>\n",
       "                        <th id=\"T_604d3cd2_dd8c_11eb_97d8_acde48001122level0_row4\" class=\"row_heading level0 row4\" >4</th>\n",
       "                        <td id=\"T_604d3cd2_dd8c_11eb_97d8_acde48001122row4_col0\" class=\"data row4 col0\" >Bukit Batok</td>\n",
       "                        <td id=\"T_604d3cd2_dd8c_11eb_97d8_acde48001122row4_col1\" class=\"data row4 col1\" >13</td>\n",
       "                        <td id=\"T_604d3cd2_dd8c_11eb_97d8_acde48001122row4_col2\" class=\"data row4 col2\" >550</td>\n",
       "                        <td id=\"T_604d3cd2_dd8c_11eb_97d8_acde48001122row4_col3\" class=\"data row4 col3\" >636</td>\n",
       "            </tr>\n",
       "    </tbody></table>"
      ],
      "text/plain": [
       "<pandas.io.formats.style.Styler at 0x7fc1052163a0>"
      ]
     },
     "metadata": {},
     "output_type": "display_data"
    }
   ],
   "source": [
    "list_pop_df = median_df.sort_values('No. of listings', ascending=False).head(5).reset_index(drop=True)\n",
    "list_pop_df = list_pop_df.style.set_table_attributes(\"style='display:inline'\").set_caption(\"Top 5 rent listings based on Region\")\n",
    "display(list_pop_df)\n",
    "\n",
    "low_median = median_df[median_df['Median Price'] != 0].sort_values('Median Price', ascending=True).head(5).reset_index(drop=True)\n",
    "low_median = low_median.style.set_table_attributes(\"style='display:inline'\").set_caption(\"Top 5 lowest rent prices\")\n",
    "display(low_median)"
   ]
  },
  {
   "cell_type": "markdown",
   "metadata": {},
   "source": [
    "<a id='section6.3'></a>\n",
    "## 6.3 Percentage and price comparison"
   ]
  },
  {
   "cell_type": "code",
   "execution_count": 49,
   "metadata": {},
   "outputs": [],
   "source": [
    "# calculation for percent and value difference for [99co + ilivesg] and carousell's median prices\n",
    "price_changes=[]\n",
    "percent_changes=[]\n",
    "\n",
    "for median in median_df.values:\n",
    "    median_price = median[3] # all listings\n",
    "    common_price = median[2] # carousell\n",
    "\n",
    "    # check for divide by 0 error\n",
    "    if median_price != 0:\n",
    "        price_diff = median_price - common_price\n",
    "        percent_diff = ((median_price/common_price * 100 - 100) )\n",
    "\n",
    "    # if no listing avail, set to 0\n",
    "    else:\n",
    "        price_diff = 0\n",
    "        percent_diff = 0\n",
    "\n",
    "    price_changes.append(price_diff)\n",
    "    percent_changes.append(percent_diff)"
   ]
  },
  {
   "cell_type": "code",
   "execution_count": 50,
   "metadata": {},
   "outputs": [],
   "source": [
    "# insert new columns to dataframe\n",
    "median_df['Change'] = price_changes\n",
    "median_df['Change (%)'] = percent_changes\n",
    "\n",
    "# round to 1 decimal place for percent change\n",
    "median_df['Change (%)'] = median_df['Change (%)'].round(1)"
   ]
  },
  {
   "cell_type": "markdown",
   "metadata": {},
   "source": [
    "Highlight prices that dropped\n",
    "* <i>code referenced from https://www.geeksforgeeks.org/highlight-the-negative-values-red-and-positive-values-black-in-pandas-dataframe/</i>"
   ]
  },
  {
   "cell_type": "code",
   "execution_count": 51,
   "metadata": {},
   "outputs": [],
   "source": [
    "# highlight negative changes with green text (means price has dropped)\n",
    "def highlight_neg(n):\n",
    "    if n.dtype == np.object:\n",
    "        is_negative = [False for _ in range(n.shape[0])]\n",
    "    else:\n",
    "        is_negative = n < 0\n",
    "    return ['color: green;' \n",
    "            if cell else 'color:black' \n",
    "                for cell in is_negative]"
   ]
  },
  {
   "cell_type": "markdown",
   "metadata": {},
   "source": [
    "### Percentage difference between 2019 median prices and now\n",
    "* green text indicates price decrease"
   ]
  },
  {
   "cell_type": "code",
   "execution_count": 52,
   "metadata": {},
   "outputs": [
    {
     "data": {
      "text/html": [
       "<style  type=\"text/css\" >\n",
       "#T_60529b6e_dd8c_11eb_97d8_acde48001122row0_col0,#T_60529b6e_dd8c_11eb_97d8_acde48001122row0_col1,#T_60529b6e_dd8c_11eb_97d8_acde48001122row0_col2,#T_60529b6e_dd8c_11eb_97d8_acde48001122row0_col3,#T_60529b6e_dd8c_11eb_97d8_acde48001122row0_col4,#T_60529b6e_dd8c_11eb_97d8_acde48001122row0_col5,#T_60529b6e_dd8c_11eb_97d8_acde48001122row1_col0,#T_60529b6e_dd8c_11eb_97d8_acde48001122row1_col1,#T_60529b6e_dd8c_11eb_97d8_acde48001122row1_col2,#T_60529b6e_dd8c_11eb_97d8_acde48001122row1_col3,#T_60529b6e_dd8c_11eb_97d8_acde48001122row1_col4,#T_60529b6e_dd8c_11eb_97d8_acde48001122row1_col5,#T_60529b6e_dd8c_11eb_97d8_acde48001122row2_col0,#T_60529b6e_dd8c_11eb_97d8_acde48001122row2_col1,#T_60529b6e_dd8c_11eb_97d8_acde48001122row2_col2,#T_60529b6e_dd8c_11eb_97d8_acde48001122row2_col3,#T_60529b6e_dd8c_11eb_97d8_acde48001122row2_col4,#T_60529b6e_dd8c_11eb_97d8_acde48001122row2_col5,#T_60529b6e_dd8c_11eb_97d8_acde48001122row3_col0,#T_60529b6e_dd8c_11eb_97d8_acde48001122row3_col1,#T_60529b6e_dd8c_11eb_97d8_acde48001122row3_col2,#T_60529b6e_dd8c_11eb_97d8_acde48001122row3_col3,#T_60529b6e_dd8c_11eb_97d8_acde48001122row3_col4,#T_60529b6e_dd8c_11eb_97d8_acde48001122row3_col5,#T_60529b6e_dd8c_11eb_97d8_acde48001122row4_col0,#T_60529b6e_dd8c_11eb_97d8_acde48001122row4_col1,#T_60529b6e_dd8c_11eb_97d8_acde48001122row4_col2,#T_60529b6e_dd8c_11eb_97d8_acde48001122row4_col3,#T_60529b6e_dd8c_11eb_97d8_acde48001122row4_col4,#T_60529b6e_dd8c_11eb_97d8_acde48001122row4_col5,#T_60529b6e_dd8c_11eb_97d8_acde48001122row5_col0,#T_60529b6e_dd8c_11eb_97d8_acde48001122row5_col1,#T_60529b6e_dd8c_11eb_97d8_acde48001122row5_col2,#T_60529b6e_dd8c_11eb_97d8_acde48001122row5_col3,#T_60529b6e_dd8c_11eb_97d8_acde48001122row5_col4,#T_60529b6e_dd8c_11eb_97d8_acde48001122row5_col5,#T_60529b6e_dd8c_11eb_97d8_acde48001122row6_col0,#T_60529b6e_dd8c_11eb_97d8_acde48001122row6_col1,#T_60529b6e_dd8c_11eb_97d8_acde48001122row6_col2,#T_60529b6e_dd8c_11eb_97d8_acde48001122row6_col3,#T_60529b6e_dd8c_11eb_97d8_acde48001122row7_col0,#T_60529b6e_dd8c_11eb_97d8_acde48001122row7_col1,#T_60529b6e_dd8c_11eb_97d8_acde48001122row7_col2,#T_60529b6e_dd8c_11eb_97d8_acde48001122row7_col3,#T_60529b6e_dd8c_11eb_97d8_acde48001122row7_col4,#T_60529b6e_dd8c_11eb_97d8_acde48001122row7_col5,#T_60529b6e_dd8c_11eb_97d8_acde48001122row8_col0,#T_60529b6e_dd8c_11eb_97d8_acde48001122row8_col1,#T_60529b6e_dd8c_11eb_97d8_acde48001122row8_col2,#T_60529b6e_dd8c_11eb_97d8_acde48001122row8_col3,#T_60529b6e_dd8c_11eb_97d8_acde48001122row9_col0,#T_60529b6e_dd8c_11eb_97d8_acde48001122row9_col1,#T_60529b6e_dd8c_11eb_97d8_acde48001122row9_col2,#T_60529b6e_dd8c_11eb_97d8_acde48001122row9_col3,#T_60529b6e_dd8c_11eb_97d8_acde48001122row9_col4,#T_60529b6e_dd8c_11eb_97d8_acde48001122row9_col5,#T_60529b6e_dd8c_11eb_97d8_acde48001122row10_col0,#T_60529b6e_dd8c_11eb_97d8_acde48001122row10_col1,#T_60529b6e_dd8c_11eb_97d8_acde48001122row10_col2,#T_60529b6e_dd8c_11eb_97d8_acde48001122row10_col3,#T_60529b6e_dd8c_11eb_97d8_acde48001122row10_col4,#T_60529b6e_dd8c_11eb_97d8_acde48001122row10_col5,#T_60529b6e_dd8c_11eb_97d8_acde48001122row11_col0,#T_60529b6e_dd8c_11eb_97d8_acde48001122row11_col1,#T_60529b6e_dd8c_11eb_97d8_acde48001122row11_col2,#T_60529b6e_dd8c_11eb_97d8_acde48001122row11_col3,#T_60529b6e_dd8c_11eb_97d8_acde48001122row11_col4,#T_60529b6e_dd8c_11eb_97d8_acde48001122row11_col5,#T_60529b6e_dd8c_11eb_97d8_acde48001122row12_col0,#T_60529b6e_dd8c_11eb_97d8_acde48001122row12_col1,#T_60529b6e_dd8c_11eb_97d8_acde48001122row12_col2,#T_60529b6e_dd8c_11eb_97d8_acde48001122row12_col3,#T_60529b6e_dd8c_11eb_97d8_acde48001122row12_col4,#T_60529b6e_dd8c_11eb_97d8_acde48001122row12_col5,#T_60529b6e_dd8c_11eb_97d8_acde48001122row13_col0,#T_60529b6e_dd8c_11eb_97d8_acde48001122row13_col1,#T_60529b6e_dd8c_11eb_97d8_acde48001122row13_col2,#T_60529b6e_dd8c_11eb_97d8_acde48001122row13_col3,#T_60529b6e_dd8c_11eb_97d8_acde48001122row13_col4,#T_60529b6e_dd8c_11eb_97d8_acde48001122row13_col5,#T_60529b6e_dd8c_11eb_97d8_acde48001122row14_col0,#T_60529b6e_dd8c_11eb_97d8_acde48001122row14_col1,#T_60529b6e_dd8c_11eb_97d8_acde48001122row14_col2,#T_60529b6e_dd8c_11eb_97d8_acde48001122row14_col3,#T_60529b6e_dd8c_11eb_97d8_acde48001122row14_col4,#T_60529b6e_dd8c_11eb_97d8_acde48001122row14_col5,#T_60529b6e_dd8c_11eb_97d8_acde48001122row15_col0,#T_60529b6e_dd8c_11eb_97d8_acde48001122row15_col1,#T_60529b6e_dd8c_11eb_97d8_acde48001122row15_col2,#T_60529b6e_dd8c_11eb_97d8_acde48001122row15_col3,#T_60529b6e_dd8c_11eb_97d8_acde48001122row15_col4,#T_60529b6e_dd8c_11eb_97d8_acde48001122row15_col5,#T_60529b6e_dd8c_11eb_97d8_acde48001122row16_col0,#T_60529b6e_dd8c_11eb_97d8_acde48001122row16_col1,#T_60529b6e_dd8c_11eb_97d8_acde48001122row16_col2,#T_60529b6e_dd8c_11eb_97d8_acde48001122row16_col3,#T_60529b6e_dd8c_11eb_97d8_acde48001122row16_col4,#T_60529b6e_dd8c_11eb_97d8_acde48001122row16_col5,#T_60529b6e_dd8c_11eb_97d8_acde48001122row17_col0,#T_60529b6e_dd8c_11eb_97d8_acde48001122row17_col1,#T_60529b6e_dd8c_11eb_97d8_acde48001122row17_col2,#T_60529b6e_dd8c_11eb_97d8_acde48001122row17_col3,#T_60529b6e_dd8c_11eb_97d8_acde48001122row18_col0,#T_60529b6e_dd8c_11eb_97d8_acde48001122row18_col1,#T_60529b6e_dd8c_11eb_97d8_acde48001122row18_col2,#T_60529b6e_dd8c_11eb_97d8_acde48001122row18_col3,#T_60529b6e_dd8c_11eb_97d8_acde48001122row18_col4,#T_60529b6e_dd8c_11eb_97d8_acde48001122row18_col5,#T_60529b6e_dd8c_11eb_97d8_acde48001122row19_col0,#T_60529b6e_dd8c_11eb_97d8_acde48001122row19_col1,#T_60529b6e_dd8c_11eb_97d8_acde48001122row19_col2,#T_60529b6e_dd8c_11eb_97d8_acde48001122row19_col3,#T_60529b6e_dd8c_11eb_97d8_acde48001122row19_col4,#T_60529b6e_dd8c_11eb_97d8_acde48001122row19_col5,#T_60529b6e_dd8c_11eb_97d8_acde48001122row20_col0,#T_60529b6e_dd8c_11eb_97d8_acde48001122row20_col1,#T_60529b6e_dd8c_11eb_97d8_acde48001122row20_col2,#T_60529b6e_dd8c_11eb_97d8_acde48001122row20_col3,#T_60529b6e_dd8c_11eb_97d8_acde48001122row21_col0,#T_60529b6e_dd8c_11eb_97d8_acde48001122row21_col1,#T_60529b6e_dd8c_11eb_97d8_acde48001122row21_col2,#T_60529b6e_dd8c_11eb_97d8_acde48001122row21_col3,#T_60529b6e_dd8c_11eb_97d8_acde48001122row21_col4,#T_60529b6e_dd8c_11eb_97d8_acde48001122row21_col5,#T_60529b6e_dd8c_11eb_97d8_acde48001122row22_col0,#T_60529b6e_dd8c_11eb_97d8_acde48001122row22_col1,#T_60529b6e_dd8c_11eb_97d8_acde48001122row22_col2,#T_60529b6e_dd8c_11eb_97d8_acde48001122row22_col3,#T_60529b6e_dd8c_11eb_97d8_acde48001122row22_col4,#T_60529b6e_dd8c_11eb_97d8_acde48001122row22_col5,#T_60529b6e_dd8c_11eb_97d8_acde48001122row23_col0,#T_60529b6e_dd8c_11eb_97d8_acde48001122row23_col1,#T_60529b6e_dd8c_11eb_97d8_acde48001122row23_col2,#T_60529b6e_dd8c_11eb_97d8_acde48001122row23_col3,#T_60529b6e_dd8c_11eb_97d8_acde48001122row23_col4,#T_60529b6e_dd8c_11eb_97d8_acde48001122row23_col5,#T_60529b6e_dd8c_11eb_97d8_acde48001122row24_col0,#T_60529b6e_dd8c_11eb_97d8_acde48001122row24_col1,#T_60529b6e_dd8c_11eb_97d8_acde48001122row24_col2,#T_60529b6e_dd8c_11eb_97d8_acde48001122row24_col3,#T_60529b6e_dd8c_11eb_97d8_acde48001122row24_col4,#T_60529b6e_dd8c_11eb_97d8_acde48001122row24_col5{\n",
       "            color: black;\n",
       "        }#T_60529b6e_dd8c_11eb_97d8_acde48001122row6_col4,#T_60529b6e_dd8c_11eb_97d8_acde48001122row6_col5,#T_60529b6e_dd8c_11eb_97d8_acde48001122row8_col4,#T_60529b6e_dd8c_11eb_97d8_acde48001122row8_col5,#T_60529b6e_dd8c_11eb_97d8_acde48001122row17_col4,#T_60529b6e_dd8c_11eb_97d8_acde48001122row17_col5,#T_60529b6e_dd8c_11eb_97d8_acde48001122row20_col4,#T_60529b6e_dd8c_11eb_97d8_acde48001122row20_col5{\n",
       "            color:  green;\n",
       "        }</style><table id=\"T_60529b6e_dd8c_11eb_97d8_acde48001122\" ><thead>    <tr>        <th class=\"blank level0\" ></th>        <th class=\"col_heading level0 col0\" >Town</th>        <th class=\"col_heading level0 col1\" >No. of listings</th>        <th class=\"col_heading level0 col2\" >Common Room</th>        <th class=\"col_heading level0 col3\" >Median Price</th>        <th class=\"col_heading level0 col4\" >Change</th>        <th class=\"col_heading level0 col5\" >Change (%)</th>    </tr></thead><tbody>\n",
       "                <tr>\n",
       "                        <th id=\"T_60529b6e_dd8c_11eb_97d8_acde48001122level0_row0\" class=\"row_heading level0 row0\" >0</th>\n",
       "                        <td id=\"T_60529b6e_dd8c_11eb_97d8_acde48001122row0_col0\" class=\"data row0 col0\" >Ang Mo Kio</td>\n",
       "                        <td id=\"T_60529b6e_dd8c_11eb_97d8_acde48001122row0_col1\" class=\"data row0 col1\" >9</td>\n",
       "                        <td id=\"T_60529b6e_dd8c_11eb_97d8_acde48001122row0_col2\" class=\"data row0 col2\" >600</td>\n",
       "                        <td id=\"T_60529b6e_dd8c_11eb_97d8_acde48001122row0_col3\" class=\"data row0 col3\" >681</td>\n",
       "                        <td id=\"T_60529b6e_dd8c_11eb_97d8_acde48001122row0_col4\" class=\"data row0 col4\" >81</td>\n",
       "                        <td id=\"T_60529b6e_dd8c_11eb_97d8_acde48001122row0_col5\" class=\"data row0 col5\" >13.500000</td>\n",
       "            </tr>\n",
       "            <tr>\n",
       "                        <th id=\"T_60529b6e_dd8c_11eb_97d8_acde48001122level0_row1\" class=\"row_heading level0 row1\" >1</th>\n",
       "                        <td id=\"T_60529b6e_dd8c_11eb_97d8_acde48001122row1_col0\" class=\"data row1 col0\" >Bedok</td>\n",
       "                        <td id=\"T_60529b6e_dd8c_11eb_97d8_acde48001122row1_col1\" class=\"data row1 col1\" >5</td>\n",
       "                        <td id=\"T_60529b6e_dd8c_11eb_97d8_acde48001122row1_col2\" class=\"data row1 col2\" >600</td>\n",
       "                        <td id=\"T_60529b6e_dd8c_11eb_97d8_acde48001122row1_col3\" class=\"data row1 col3\" >716</td>\n",
       "                        <td id=\"T_60529b6e_dd8c_11eb_97d8_acde48001122row1_col4\" class=\"data row1 col4\" >116</td>\n",
       "                        <td id=\"T_60529b6e_dd8c_11eb_97d8_acde48001122row1_col5\" class=\"data row1 col5\" >19.300000</td>\n",
       "            </tr>\n",
       "            <tr>\n",
       "                        <th id=\"T_60529b6e_dd8c_11eb_97d8_acde48001122level0_row2\" class=\"row_heading level0 row2\" >2</th>\n",
       "                        <td id=\"T_60529b6e_dd8c_11eb_97d8_acde48001122row2_col0\" class=\"data row2 col0\" >Bishan</td>\n",
       "                        <td id=\"T_60529b6e_dd8c_11eb_97d8_acde48001122row2_col1\" class=\"data row2 col1\" >7</td>\n",
       "                        <td id=\"T_60529b6e_dd8c_11eb_97d8_acde48001122row2_col2\" class=\"data row2 col2\" >660</td>\n",
       "                        <td id=\"T_60529b6e_dd8c_11eb_97d8_acde48001122row2_col3\" class=\"data row2 col3\" >757</td>\n",
       "                        <td id=\"T_60529b6e_dd8c_11eb_97d8_acde48001122row2_col4\" class=\"data row2 col4\" >97</td>\n",
       "                        <td id=\"T_60529b6e_dd8c_11eb_97d8_acde48001122row2_col5\" class=\"data row2 col5\" >14.700000</td>\n",
       "            </tr>\n",
       "            <tr>\n",
       "                        <th id=\"T_60529b6e_dd8c_11eb_97d8_acde48001122level0_row3\" class=\"row_heading level0 row3\" >3</th>\n",
       "                        <td id=\"T_60529b6e_dd8c_11eb_97d8_acde48001122row3_col0\" class=\"data row3 col0\" >Bukit Batok</td>\n",
       "                        <td id=\"T_60529b6e_dd8c_11eb_97d8_acde48001122row3_col1\" class=\"data row3 col1\" >13</td>\n",
       "                        <td id=\"T_60529b6e_dd8c_11eb_97d8_acde48001122row3_col2\" class=\"data row3 col2\" >550</td>\n",
       "                        <td id=\"T_60529b6e_dd8c_11eb_97d8_acde48001122row3_col3\" class=\"data row3 col3\" >636</td>\n",
       "                        <td id=\"T_60529b6e_dd8c_11eb_97d8_acde48001122row3_col4\" class=\"data row3 col4\" >86</td>\n",
       "                        <td id=\"T_60529b6e_dd8c_11eb_97d8_acde48001122row3_col5\" class=\"data row3 col5\" >15.600000</td>\n",
       "            </tr>\n",
       "            <tr>\n",
       "                        <th id=\"T_60529b6e_dd8c_11eb_97d8_acde48001122level0_row4\" class=\"row_heading level0 row4\" >4</th>\n",
       "                        <td id=\"T_60529b6e_dd8c_11eb_97d8_acde48001122row4_col0\" class=\"data row4 col0\" >Bukit Merah</td>\n",
       "                        <td id=\"T_60529b6e_dd8c_11eb_97d8_acde48001122row4_col1\" class=\"data row4 col1\" >0</td>\n",
       "                        <td id=\"T_60529b6e_dd8c_11eb_97d8_acde48001122row4_col2\" class=\"data row4 col2\" >750</td>\n",
       "                        <td id=\"T_60529b6e_dd8c_11eb_97d8_acde48001122row4_col3\" class=\"data row4 col3\" >0</td>\n",
       "                        <td id=\"T_60529b6e_dd8c_11eb_97d8_acde48001122row4_col4\" class=\"data row4 col4\" >0</td>\n",
       "                        <td id=\"T_60529b6e_dd8c_11eb_97d8_acde48001122row4_col5\" class=\"data row4 col5\" >0.000000</td>\n",
       "            </tr>\n",
       "            <tr>\n",
       "                        <th id=\"T_60529b6e_dd8c_11eb_97d8_acde48001122level0_row5\" class=\"row_heading level0 row5\" >5</th>\n",
       "                        <td id=\"T_60529b6e_dd8c_11eb_97d8_acde48001122row5_col0\" class=\"data row5 col0\" >Bukit Panjang</td>\n",
       "                        <td id=\"T_60529b6e_dd8c_11eb_97d8_acde48001122row5_col1\" class=\"data row5 col1\" >17</td>\n",
       "                        <td id=\"T_60529b6e_dd8c_11eb_97d8_acde48001122row5_col2\" class=\"data row5 col2\" >490</td>\n",
       "                        <td id=\"T_60529b6e_dd8c_11eb_97d8_acde48001122row5_col3\" class=\"data row5 col3\" >660</td>\n",
       "                        <td id=\"T_60529b6e_dd8c_11eb_97d8_acde48001122row5_col4\" class=\"data row5 col4\" >170</td>\n",
       "                        <td id=\"T_60529b6e_dd8c_11eb_97d8_acde48001122row5_col5\" class=\"data row5 col5\" >34.700000</td>\n",
       "            </tr>\n",
       "            <tr>\n",
       "                        <th id=\"T_60529b6e_dd8c_11eb_97d8_acde48001122level0_row6\" class=\"row_heading level0 row6\" >6</th>\n",
       "                        <td id=\"T_60529b6e_dd8c_11eb_97d8_acde48001122row6_col0\" class=\"data row6 col0\" >Central</td>\n",
       "                        <td id=\"T_60529b6e_dd8c_11eb_97d8_acde48001122row6_col1\" class=\"data row6 col1\" >4</td>\n",
       "                        <td id=\"T_60529b6e_dd8c_11eb_97d8_acde48001122row6_col2\" class=\"data row6 col2\" >780</td>\n",
       "                        <td id=\"T_60529b6e_dd8c_11eb_97d8_acde48001122row6_col3\" class=\"data row6 col3\" >677</td>\n",
       "                        <td id=\"T_60529b6e_dd8c_11eb_97d8_acde48001122row6_col4\" class=\"data row6 col4\" >-103</td>\n",
       "                        <td id=\"T_60529b6e_dd8c_11eb_97d8_acde48001122row6_col5\" class=\"data row6 col5\" >-13.200000</td>\n",
       "            </tr>\n",
       "            <tr>\n",
       "                        <th id=\"T_60529b6e_dd8c_11eb_97d8_acde48001122level0_row7\" class=\"row_heading level0 row7\" >7</th>\n",
       "                        <td id=\"T_60529b6e_dd8c_11eb_97d8_acde48001122row7_col0\" class=\"data row7 col0\" >Choa Chu Kang</td>\n",
       "                        <td id=\"T_60529b6e_dd8c_11eb_97d8_acde48001122row7_col1\" class=\"data row7 col1\" >14</td>\n",
       "                        <td id=\"T_60529b6e_dd8c_11eb_97d8_acde48001122row7_col2\" class=\"data row7 col2\" >500</td>\n",
       "                        <td id=\"T_60529b6e_dd8c_11eb_97d8_acde48001122row7_col3\" class=\"data row7 col3\" >630</td>\n",
       "                        <td id=\"T_60529b6e_dd8c_11eb_97d8_acde48001122row7_col4\" class=\"data row7 col4\" >130</td>\n",
       "                        <td id=\"T_60529b6e_dd8c_11eb_97d8_acde48001122row7_col5\" class=\"data row7 col5\" >26.000000</td>\n",
       "            </tr>\n",
       "            <tr>\n",
       "                        <th id=\"T_60529b6e_dd8c_11eb_97d8_acde48001122level0_row8\" class=\"row_heading level0 row8\" >8</th>\n",
       "                        <td id=\"T_60529b6e_dd8c_11eb_97d8_acde48001122row8_col0\" class=\"data row8 col0\" >Clementi</td>\n",
       "                        <td id=\"T_60529b6e_dd8c_11eb_97d8_acde48001122row8_col1\" class=\"data row8 col1\" >5</td>\n",
       "                        <td id=\"T_60529b6e_dd8c_11eb_97d8_acde48001122row8_col2\" class=\"data row8 col2\" >690</td>\n",
       "                        <td id=\"T_60529b6e_dd8c_11eb_97d8_acde48001122row8_col3\" class=\"data row8 col3\" >682</td>\n",
       "                        <td id=\"T_60529b6e_dd8c_11eb_97d8_acde48001122row8_col4\" class=\"data row8 col4\" >-8</td>\n",
       "                        <td id=\"T_60529b6e_dd8c_11eb_97d8_acde48001122row8_col5\" class=\"data row8 col5\" >-1.200000</td>\n",
       "            </tr>\n",
       "            <tr>\n",
       "                        <th id=\"T_60529b6e_dd8c_11eb_97d8_acde48001122level0_row9\" class=\"row_heading level0 row9\" >9</th>\n",
       "                        <td id=\"T_60529b6e_dd8c_11eb_97d8_acde48001122row9_col0\" class=\"data row9 col0\" >Geylang</td>\n",
       "                        <td id=\"T_60529b6e_dd8c_11eb_97d8_acde48001122row9_col1\" class=\"data row9 col1\" >1</td>\n",
       "                        <td id=\"T_60529b6e_dd8c_11eb_97d8_acde48001122row9_col2\" class=\"data row9 col2\" >660</td>\n",
       "                        <td id=\"T_60529b6e_dd8c_11eb_97d8_acde48001122row9_col3\" class=\"data row9 col3\" >700</td>\n",
       "                        <td id=\"T_60529b6e_dd8c_11eb_97d8_acde48001122row9_col4\" class=\"data row9 col4\" >40</td>\n",
       "                        <td id=\"T_60529b6e_dd8c_11eb_97d8_acde48001122row9_col5\" class=\"data row9 col5\" >6.100000</td>\n",
       "            </tr>\n",
       "            <tr>\n",
       "                        <th id=\"T_60529b6e_dd8c_11eb_97d8_acde48001122level0_row10\" class=\"row_heading level0 row10\" >10</th>\n",
       "                        <td id=\"T_60529b6e_dd8c_11eb_97d8_acde48001122row10_col0\" class=\"data row10 col0\" >Hougang</td>\n",
       "                        <td id=\"T_60529b6e_dd8c_11eb_97d8_acde48001122row10_col1\" class=\"data row10 col1\" >29</td>\n",
       "                        <td id=\"T_60529b6e_dd8c_11eb_97d8_acde48001122row10_col2\" class=\"data row10 col2\" >550</td>\n",
       "                        <td id=\"T_60529b6e_dd8c_11eb_97d8_acde48001122row10_col3\" class=\"data row10 col3\" >668</td>\n",
       "                        <td id=\"T_60529b6e_dd8c_11eb_97d8_acde48001122row10_col4\" class=\"data row10 col4\" >118</td>\n",
       "                        <td id=\"T_60529b6e_dd8c_11eb_97d8_acde48001122row10_col5\" class=\"data row10 col5\" >21.500000</td>\n",
       "            </tr>\n",
       "            <tr>\n",
       "                        <th id=\"T_60529b6e_dd8c_11eb_97d8_acde48001122level0_row11\" class=\"row_heading level0 row11\" >11</th>\n",
       "                        <td id=\"T_60529b6e_dd8c_11eb_97d8_acde48001122row11_col0\" class=\"data row11 col0\" >Jurong East</td>\n",
       "                        <td id=\"T_60529b6e_dd8c_11eb_97d8_acde48001122row11_col1\" class=\"data row11 col1\" >0</td>\n",
       "                        <td id=\"T_60529b6e_dd8c_11eb_97d8_acde48001122row11_col2\" class=\"data row11 col2\" >580</td>\n",
       "                        <td id=\"T_60529b6e_dd8c_11eb_97d8_acde48001122row11_col3\" class=\"data row11 col3\" >0</td>\n",
       "                        <td id=\"T_60529b6e_dd8c_11eb_97d8_acde48001122row11_col4\" class=\"data row11 col4\" >0</td>\n",
       "                        <td id=\"T_60529b6e_dd8c_11eb_97d8_acde48001122row11_col5\" class=\"data row11 col5\" >0.000000</td>\n",
       "            </tr>\n",
       "            <tr>\n",
       "                        <th id=\"T_60529b6e_dd8c_11eb_97d8_acde48001122level0_row12\" class=\"row_heading level0 row12\" >12</th>\n",
       "                        <td id=\"T_60529b6e_dd8c_11eb_97d8_acde48001122row12_col0\" class=\"data row12 col0\" >Jurong West</td>\n",
       "                        <td id=\"T_60529b6e_dd8c_11eb_97d8_acde48001122row12_col1\" class=\"data row12 col1\" >6</td>\n",
       "                        <td id=\"T_60529b6e_dd8c_11eb_97d8_acde48001122row12_col2\" class=\"data row12 col2\" >580</td>\n",
       "                        <td id=\"T_60529b6e_dd8c_11eb_97d8_acde48001122row12_col3\" class=\"data row12 col3\" >640</td>\n",
       "                        <td id=\"T_60529b6e_dd8c_11eb_97d8_acde48001122row12_col4\" class=\"data row12 col4\" >60</td>\n",
       "                        <td id=\"T_60529b6e_dd8c_11eb_97d8_acde48001122row12_col5\" class=\"data row12 col5\" >10.300000</td>\n",
       "            </tr>\n",
       "            <tr>\n",
       "                        <th id=\"T_60529b6e_dd8c_11eb_97d8_acde48001122level0_row13\" class=\"row_heading level0 row13\" >13</th>\n",
       "                        <td id=\"T_60529b6e_dd8c_11eb_97d8_acde48001122row13_col0\" class=\"data row13 col0\" >Kallang/Whampoa</td>\n",
       "                        <td id=\"T_60529b6e_dd8c_11eb_97d8_acde48001122row13_col1\" class=\"data row13 col1\" >0</td>\n",
       "                        <td id=\"T_60529b6e_dd8c_11eb_97d8_acde48001122row13_col2\" class=\"data row13 col2\" >690</td>\n",
       "                        <td id=\"T_60529b6e_dd8c_11eb_97d8_acde48001122row13_col3\" class=\"data row13 col3\" >0</td>\n",
       "                        <td id=\"T_60529b6e_dd8c_11eb_97d8_acde48001122row13_col4\" class=\"data row13 col4\" >0</td>\n",
       "                        <td id=\"T_60529b6e_dd8c_11eb_97d8_acde48001122row13_col5\" class=\"data row13 col5\" >0.000000</td>\n",
       "            </tr>\n",
       "            <tr>\n",
       "                        <th id=\"T_60529b6e_dd8c_11eb_97d8_acde48001122level0_row14\" class=\"row_heading level0 row14\" >14</th>\n",
       "                        <td id=\"T_60529b6e_dd8c_11eb_97d8_acde48001122row14_col0\" class=\"data row14 col0\" >Marine Parade</td>\n",
       "                        <td id=\"T_60529b6e_dd8c_11eb_97d8_acde48001122row14_col1\" class=\"data row14 col1\" >0</td>\n",
       "                        <td id=\"T_60529b6e_dd8c_11eb_97d8_acde48001122row14_col2\" class=\"data row14 col2\" >600</td>\n",
       "                        <td id=\"T_60529b6e_dd8c_11eb_97d8_acde48001122row14_col3\" class=\"data row14 col3\" >0</td>\n",
       "                        <td id=\"T_60529b6e_dd8c_11eb_97d8_acde48001122row14_col4\" class=\"data row14 col4\" >0</td>\n",
       "                        <td id=\"T_60529b6e_dd8c_11eb_97d8_acde48001122row14_col5\" class=\"data row14 col5\" >0.000000</td>\n",
       "            </tr>\n",
       "            <tr>\n",
       "                        <th id=\"T_60529b6e_dd8c_11eb_97d8_acde48001122level0_row15\" class=\"row_heading level0 row15\" >15</th>\n",
       "                        <td id=\"T_60529b6e_dd8c_11eb_97d8_acde48001122row15_col0\" class=\"data row15 col0\" >Pasir Ris</td>\n",
       "                        <td id=\"T_60529b6e_dd8c_11eb_97d8_acde48001122row15_col1\" class=\"data row15 col1\" >20</td>\n",
       "                        <td id=\"T_60529b6e_dd8c_11eb_97d8_acde48001122row15_col2\" class=\"data row15 col2\" >550</td>\n",
       "                        <td id=\"T_60529b6e_dd8c_11eb_97d8_acde48001122row15_col3\" class=\"data row15 col3\" >728</td>\n",
       "                        <td id=\"T_60529b6e_dd8c_11eb_97d8_acde48001122row15_col4\" class=\"data row15 col4\" >178</td>\n",
       "                        <td id=\"T_60529b6e_dd8c_11eb_97d8_acde48001122row15_col5\" class=\"data row15 col5\" >32.400000</td>\n",
       "            </tr>\n",
       "            <tr>\n",
       "                        <th id=\"T_60529b6e_dd8c_11eb_97d8_acde48001122level0_row16\" class=\"row_heading level0 row16\" >16</th>\n",
       "                        <td id=\"T_60529b6e_dd8c_11eb_97d8_acde48001122row16_col0\" class=\"data row16 col0\" >Punggol</td>\n",
       "                        <td id=\"T_60529b6e_dd8c_11eb_97d8_acde48001122row16_col1\" class=\"data row16 col1\" >27</td>\n",
       "                        <td id=\"T_60529b6e_dd8c_11eb_97d8_acde48001122row16_col2\" class=\"data row16 col2\" >520</td>\n",
       "                        <td id=\"T_60529b6e_dd8c_11eb_97d8_acde48001122row16_col3\" class=\"data row16 col3\" >669</td>\n",
       "                        <td id=\"T_60529b6e_dd8c_11eb_97d8_acde48001122row16_col4\" class=\"data row16 col4\" >149</td>\n",
       "                        <td id=\"T_60529b6e_dd8c_11eb_97d8_acde48001122row16_col5\" class=\"data row16 col5\" >28.700000</td>\n",
       "            </tr>\n",
       "            <tr>\n",
       "                        <th id=\"T_60529b6e_dd8c_11eb_97d8_acde48001122level0_row17\" class=\"row_heading level0 row17\" >17</th>\n",
       "                        <td id=\"T_60529b6e_dd8c_11eb_97d8_acde48001122row17_col0\" class=\"data row17 col0\" >Queenstown</td>\n",
       "                        <td id=\"T_60529b6e_dd8c_11eb_97d8_acde48001122row17_col1\" class=\"data row17 col1\" >4</td>\n",
       "                        <td id=\"T_60529b6e_dd8c_11eb_97d8_acde48001122row17_col2\" class=\"data row17 col2\" >750</td>\n",
       "                        <td id=\"T_60529b6e_dd8c_11eb_97d8_acde48001122row17_col3\" class=\"data row17 col3\" >470</td>\n",
       "                        <td id=\"T_60529b6e_dd8c_11eb_97d8_acde48001122row17_col4\" class=\"data row17 col4\" >-280</td>\n",
       "                        <td id=\"T_60529b6e_dd8c_11eb_97d8_acde48001122row17_col5\" class=\"data row17 col5\" >-37.300000</td>\n",
       "            </tr>\n",
       "            <tr>\n",
       "                        <th id=\"T_60529b6e_dd8c_11eb_97d8_acde48001122level0_row18\" class=\"row_heading level0 row18\" >18</th>\n",
       "                        <td id=\"T_60529b6e_dd8c_11eb_97d8_acde48001122row18_col0\" class=\"data row18 col0\" >Sembawang</td>\n",
       "                        <td id=\"T_60529b6e_dd8c_11eb_97d8_acde48001122row18_col1\" class=\"data row18 col1\" >7</td>\n",
       "                        <td id=\"T_60529b6e_dd8c_11eb_97d8_acde48001122row18_col2\" class=\"data row18 col2\" >520</td>\n",
       "                        <td id=\"T_60529b6e_dd8c_11eb_97d8_acde48001122row18_col3\" class=\"data row18 col3\" >632</td>\n",
       "                        <td id=\"T_60529b6e_dd8c_11eb_97d8_acde48001122row18_col4\" class=\"data row18 col4\" >112</td>\n",
       "                        <td id=\"T_60529b6e_dd8c_11eb_97d8_acde48001122row18_col5\" class=\"data row18 col5\" >21.500000</td>\n",
       "            </tr>\n",
       "            <tr>\n",
       "                        <th id=\"T_60529b6e_dd8c_11eb_97d8_acde48001122level0_row19\" class=\"row_heading level0 row19\" >19</th>\n",
       "                        <td id=\"T_60529b6e_dd8c_11eb_97d8_acde48001122row19_col0\" class=\"data row19 col0\" >Sengkang</td>\n",
       "                        <td id=\"T_60529b6e_dd8c_11eb_97d8_acde48001122row19_col1\" class=\"data row19 col1\" >25</td>\n",
       "                        <td id=\"T_60529b6e_dd8c_11eb_97d8_acde48001122row19_col2\" class=\"data row19 col2\" >520</td>\n",
       "                        <td id=\"T_60529b6e_dd8c_11eb_97d8_acde48001122row19_col3\" class=\"data row19 col3\" >663</td>\n",
       "                        <td id=\"T_60529b6e_dd8c_11eb_97d8_acde48001122row19_col4\" class=\"data row19 col4\" >143</td>\n",
       "                        <td id=\"T_60529b6e_dd8c_11eb_97d8_acde48001122row19_col5\" class=\"data row19 col5\" >27.500000</td>\n",
       "            </tr>\n",
       "            <tr>\n",
       "                        <th id=\"T_60529b6e_dd8c_11eb_97d8_acde48001122level0_row20\" class=\"row_heading level0 row20\" >20</th>\n",
       "                        <td id=\"T_60529b6e_dd8c_11eb_97d8_acde48001122row20_col0\" class=\"data row20 col0\" >Serangoon</td>\n",
       "                        <td id=\"T_60529b6e_dd8c_11eb_97d8_acde48001122row20_col1\" class=\"data row20 col1\" >1</td>\n",
       "                        <td id=\"T_60529b6e_dd8c_11eb_97d8_acde48001122row20_col2\" class=\"data row20 col2\" >630</td>\n",
       "                        <td id=\"T_60529b6e_dd8c_11eb_97d8_acde48001122row20_col3\" class=\"data row20 col3\" >500</td>\n",
       "                        <td id=\"T_60529b6e_dd8c_11eb_97d8_acde48001122row20_col4\" class=\"data row20 col4\" >-130</td>\n",
       "                        <td id=\"T_60529b6e_dd8c_11eb_97d8_acde48001122row20_col5\" class=\"data row20 col5\" >-20.600000</td>\n",
       "            </tr>\n",
       "            <tr>\n",
       "                        <th id=\"T_60529b6e_dd8c_11eb_97d8_acde48001122level0_row21\" class=\"row_heading level0 row21\" >21</th>\n",
       "                        <td id=\"T_60529b6e_dd8c_11eb_97d8_acde48001122row21_col0\" class=\"data row21 col0\" >Tampines</td>\n",
       "                        <td id=\"T_60529b6e_dd8c_11eb_97d8_acde48001122row21_col1\" class=\"data row21 col1\" >26</td>\n",
       "                        <td id=\"T_60529b6e_dd8c_11eb_97d8_acde48001122row21_col2\" class=\"data row21 col2\" >580</td>\n",
       "                        <td id=\"T_60529b6e_dd8c_11eb_97d8_acde48001122row21_col3\" class=\"data row21 col3\" >723</td>\n",
       "                        <td id=\"T_60529b6e_dd8c_11eb_97d8_acde48001122row21_col4\" class=\"data row21 col4\" >143</td>\n",
       "                        <td id=\"T_60529b6e_dd8c_11eb_97d8_acde48001122row21_col5\" class=\"data row21 col5\" >24.700000</td>\n",
       "            </tr>\n",
       "            <tr>\n",
       "                        <th id=\"T_60529b6e_dd8c_11eb_97d8_acde48001122level0_row22\" class=\"row_heading level0 row22\" >22</th>\n",
       "                        <td id=\"T_60529b6e_dd8c_11eb_97d8_acde48001122row22_col0\" class=\"data row22 col0\" >Toa Payoh</td>\n",
       "                        <td id=\"T_60529b6e_dd8c_11eb_97d8_acde48001122row22_col1\" class=\"data row22 col1\" >15</td>\n",
       "                        <td id=\"T_60529b6e_dd8c_11eb_97d8_acde48001122row22_col2\" class=\"data row22 col2\" >650</td>\n",
       "                        <td id=\"T_60529b6e_dd8c_11eb_97d8_acde48001122row22_col3\" class=\"data row22 col3\" >679</td>\n",
       "                        <td id=\"T_60529b6e_dd8c_11eb_97d8_acde48001122row22_col4\" class=\"data row22 col4\" >29</td>\n",
       "                        <td id=\"T_60529b6e_dd8c_11eb_97d8_acde48001122row22_col5\" class=\"data row22 col5\" >4.500000</td>\n",
       "            </tr>\n",
       "            <tr>\n",
       "                        <th id=\"T_60529b6e_dd8c_11eb_97d8_acde48001122level0_row23\" class=\"row_heading level0 row23\" >23</th>\n",
       "                        <td id=\"T_60529b6e_dd8c_11eb_97d8_acde48001122row23_col0\" class=\"data row23 col0\" >Woodlands</td>\n",
       "                        <td id=\"T_60529b6e_dd8c_11eb_97d8_acde48001122row23_col1\" class=\"data row23 col1\" >12</td>\n",
       "                        <td id=\"T_60529b6e_dd8c_11eb_97d8_acde48001122row23_col2\" class=\"data row23 col2\" >490</td>\n",
       "                        <td id=\"T_60529b6e_dd8c_11eb_97d8_acde48001122row23_col3\" class=\"data row23 col3\" >698</td>\n",
       "                        <td id=\"T_60529b6e_dd8c_11eb_97d8_acde48001122row23_col4\" class=\"data row23 col4\" >208</td>\n",
       "                        <td id=\"T_60529b6e_dd8c_11eb_97d8_acde48001122row23_col5\" class=\"data row23 col5\" >42.400000</td>\n",
       "            </tr>\n",
       "            <tr>\n",
       "                        <th id=\"T_60529b6e_dd8c_11eb_97d8_acde48001122level0_row24\" class=\"row_heading level0 row24\" >24</th>\n",
       "                        <td id=\"T_60529b6e_dd8c_11eb_97d8_acde48001122row24_col0\" class=\"data row24 col0\" >Yishun</td>\n",
       "                        <td id=\"T_60529b6e_dd8c_11eb_97d8_acde48001122row24_col1\" class=\"data row24 col1\" >9</td>\n",
       "                        <td id=\"T_60529b6e_dd8c_11eb_97d8_acde48001122row24_col2\" class=\"data row24 col2\" >520</td>\n",
       "                        <td id=\"T_60529b6e_dd8c_11eb_97d8_acde48001122row24_col3\" class=\"data row24 col3\" >680</td>\n",
       "                        <td id=\"T_60529b6e_dd8c_11eb_97d8_acde48001122row24_col4\" class=\"data row24 col4\" >160</td>\n",
       "                        <td id=\"T_60529b6e_dd8c_11eb_97d8_acde48001122row24_col5\" class=\"data row24 col5\" >30.800000</td>\n",
       "            </tr>\n",
       "    </tbody></table>"
      ],
      "text/plain": [
       "<pandas.io.formats.style.Styler at 0x7fc105210790>"
      ]
     },
     "execution_count": 52,
     "metadata": {},
     "output_type": "execute_result"
    }
   ],
   "source": [
    "# highlights negative percentage in green: price decrease\n",
    "median_df.style.apply(highlight_neg)"
   ]
  },
  {
   "cell_type": "markdown",
   "metadata": {},
   "source": [
    "### Price changes for each region (percentage)"
   ]
  },
  {
   "cell_type": "code",
   "execution_count": 53,
   "metadata": {},
   "outputs": [
    {
     "data": {
      "text/plain": [
       "<AxesSubplot:title={'center':'Region Price changes'}, ylabel='Change (%)'>"
      ]
     },
     "execution_count": 53,
     "metadata": {},
     "output_type": "execute_result"
    },
    {
     "data": {
      "image/png": "[encoded data removed]",
      "text/plain": [
       "<Figure size 1440x1440 with 1 Axes>"
      ]
     },
     "metadata": {
      "needs_background": "light"
     },
     "output_type": "display_data"
    }
   ],
   "source": [
    "percent_change_plt = median_df[['Town','Change (%)']].set_index('Town')\n",
    "percent_change_plt.plot(kind='barh', title='Region Price changes', xlabel='Change (%)',figsize=(20,20))"
   ]
  },
  {
   "cell_type": "markdown",
   "metadata": {},
   "source": [
    "### Median prices per region (comparison between 2019 median prices and now)"
   ]
  },
  {
   "cell_type": "code",
   "execution_count": 54,
   "metadata": {
    "scrolled": true
   },
   "outputs": [
    {
     "data": {
      "image/png": "[encoded data removed]",
      "text/plain": [
       "<Figure size 1296x432 with 2 Axes>"
      ]
     },
     "metadata": {
      "needs_background": "light"
     },
     "output_type": "display_data"
    }
   ],
   "source": [
    "fig,ax = plt.subplots(figsize=(18,6))\n",
    "x = np.arange(25)\n",
    "ax1 = plt.subplot(1,1,1)\n",
    "w = 0.3\n",
    "#plt.xticks(), will label the bars on x axis with the respective country names.\n",
    "plt.xticks(x + w /2, median_df['Town'], rotation='vertical')\n",
    "pop =ax1.bar(x, median_df['Common Room'], width=w, color='b', align='center')\n",
    "#The trick is to use two different axes that share the same x axis, we have used ax1.twinx() method.\n",
    "ax2 = ax1.twinx()\n",
    "#We have calculated GDP by dividing gdpPerCapita to population.\n",
    "gdp =ax2.bar(x + w, median_df['Median Price'], width=w,color='g',align='center')\n",
    "#Set the Y axis label as GDP.\n",
    "plt.ylabel('GDP')\n",
    "#To set the legend on the plot we have used plt.legend()\n",
    "plt.legend([pop, gdp],['2019 Room Prices', 'Market Median Prices'])\n",
    "#To show the plot finally we have used plt.show().\n",
    "plt.show()"
   ]
  },
  {
   "cell_type": "markdown",
   "metadata": {},
   "source": [
    "<a id='section7'></a>\n",
    "## 7.0 Geopy"
   ]
  },
  {
   "cell_type": "code",
   "execution_count": 55,
   "metadata": {},
   "outputs": [],
   "source": [
    "# pip install folium\n",
    "# pip install geopy"
   ]
  },
  {
   "cell_type": "code",
   "execution_count": 109,
   "metadata": {},
   "outputs": [],
   "source": [
    "import folium \n",
    "from folium.plugins import MarkerCluster\n",
    "from geopy.geocoders import Nominatim\n",
    "from geopy.exc import GeocoderTimedOut"
   ]
  },
  {
   "cell_type": "code",
   "execution_count": 100,
   "metadata": {},
   "outputs": [],
   "source": [
    "# create mapping object (OpenStreetMap API)\n",
    "geolocator = Nominatim(user_agent=\"mee\")"
   ]
  },
  {
   "cell_type": "markdown",
   "metadata": {},
   "source": [
    "* Due to the high number of listings, additional filters will be added to reduce the amount of processing needed.\n",
    "* Location would be set to: ___Woodlands___\n",
    "* Mrt will be pinned onto the map as well to be able to access distance from rent."
   ]
  },
  {
   "cell_type": "markdown",
   "metadata": {},
   "source": [
    "### Retrieve Dataframe data for specified region (USE MEDIAN_DF??)"
   ]
  },
  {
   "cell_type": "code",
   "execution_count": 101,
   "metadata": {},
   "outputs": [],
   "source": [
    "select_region = 'Woodlands'\n",
    "region_df = concat_df[concat_df['Region'].str.contains(select_region)]\n",
    "region_df = region_df.reset_index(drop=True)"
   ]
  },
  {
   "cell_type": "code",
   "execution_count": 102,
   "metadata": {},
   "outputs": [
    {
     "data": {
      "text/html": [
       "<div>\n",
       "<style scoped>\n",
       "    .dataframe tbody tr th:only-of-type {\n",
       "        vertical-align: middle;\n",
       "    }\n",
       "\n",
       "    .dataframe tbody tr th {\n",
       "        vertical-align: top;\n",
       "    }\n",
       "\n",
       "    .dataframe thead th {\n",
       "        text-align: right;\n",
       "    }\n",
       "</style>\n",
       "<table border=\"1\" class=\"dataframe\">\n",
       "  <thead>\n",
       "    <tr style=\"text-align: right;\">\n",
       "      <th></th>\n",
       "      <th>Address</th>\n",
       "      <th>Region</th>\n",
       "      <th>Room-type</th>\n",
       "      <th>Building-type</th>\n",
       "      <th>Price</th>\n",
       "    </tr>\n",
       "  </thead>\n",
       "  <tbody>\n",
       "    <tr>\n",
       "      <th>0</th>\n",
       "      <td>635 Woodlands Ring Road</td>\n",
       "      <td>Admiralty / Woodlands</td>\n",
       "      <td>Common Room</td>\n",
       "      <td>HDB</td>\n",
       "      <td>700</td>\n",
       "    </tr>\n",
       "    <tr>\n",
       "      <th>1</th>\n",
       "      <td>780D Woodlands Crescent</td>\n",
       "      <td>Admiralty / Woodlands</td>\n",
       "      <td>Common Room</td>\n",
       "      <td>HDB</td>\n",
       "      <td>750</td>\n",
       "    </tr>\n",
       "    <tr>\n",
       "      <th>2</th>\n",
       "      <td>647 Woodlands Ring Road</td>\n",
       "      <td>Admiralty / Woodlands</td>\n",
       "      <td>Common Room</td>\n",
       "      <td>HDB</td>\n",
       "      <td>600</td>\n",
       "    </tr>\n",
       "    <tr>\n",
       "      <th>3</th>\n",
       "      <td>686B Woodlands Drive 73</td>\n",
       "      <td>Admiralty / Woodlands</td>\n",
       "      <td>Common Room</td>\n",
       "      <td>HDB</td>\n",
       "      <td>800</td>\n",
       "    </tr>\n",
       "    <tr>\n",
       "      <th>4</th>\n",
       "      <td>784C Woodlands Rise</td>\n",
       "      <td>Admiralty / Woodlands</td>\n",
       "      <td>Common Room</td>\n",
       "      <td>HDB</td>\n",
       "      <td>600</td>\n",
       "    </tr>\n",
       "    <tr>\n",
       "      <th>5</th>\n",
       "      <td>512 Woodlands Drive 14</td>\n",
       "      <td>Admiralty / Woodlands</td>\n",
       "      <td>Common Room</td>\n",
       "      <td>HDB</td>\n",
       "      <td>800</td>\n",
       "    </tr>\n",
       "    <tr>\n",
       "      <th>6</th>\n",
       "      <td>854 Woodlands Street 83</td>\n",
       "      <td>Admiralty / Woodlands</td>\n",
       "      <td>Common Room</td>\n",
       "      <td>HDB</td>\n",
       "      <td>800</td>\n",
       "    </tr>\n",
       "    <tr>\n",
       "      <th>7</th>\n",
       "      <td>18 Marsiling Lane</td>\n",
       "      <td>Marsiling (Woodlands)</td>\n",
       "      <td>Common Room</td>\n",
       "      <td>HDB</td>\n",
       "      <td>350</td>\n",
       "    </tr>\n",
       "    <tr>\n",
       "      <th>8</th>\n",
       "      <td>835 Woodlands Street 83</td>\n",
       "      <td>Woodlands</td>\n",
       "      <td>Master Room</td>\n",
       "      <td>HDB</td>\n",
       "      <td>900</td>\n",
       "    </tr>\n",
       "    <tr>\n",
       "      <th>9</th>\n",
       "      <td>714 Woodlands Drive 70</td>\n",
       "      <td>Woodlands</td>\n",
       "      <td>Common Room</td>\n",
       "      <td>HDB</td>\n",
       "      <td>750</td>\n",
       "    </tr>\n",
       "    <tr>\n",
       "      <th>10</th>\n",
       "      <td>835 Woodlands Street 83</td>\n",
       "      <td>Woodlands</td>\n",
       "      <td>Common Room</td>\n",
       "      <td>HDB</td>\n",
       "      <td>900</td>\n",
       "    </tr>\n",
       "    <tr>\n",
       "      <th>11</th>\n",
       "      <td>Woodlands Drive 14</td>\n",
       "      <td>Woodlands Regional Centre (Woodlands)</td>\n",
       "      <td>Common Room</td>\n",
       "      <td>HDB</td>\n",
       "      <td>580</td>\n",
       "    </tr>\n",
       "    <tr>\n",
       "      <th>12</th>\n",
       "      <td>WOODLANDS STREET 41</td>\n",
       "      <td>Marsiling (Woodlands)</td>\n",
       "      <td>Common Room</td>\n",
       "      <td>HDB</td>\n",
       "      <td>750</td>\n",
       "    </tr>\n",
       "  </tbody>\n",
       "</table>\n",
       "</div>"
      ],
      "text/plain": [
       "                    Address                                 Region  \\\n",
       "0   635 Woodlands Ring Road                 Admiralty / Woodlands    \n",
       "1   780D Woodlands Crescent                 Admiralty / Woodlands    \n",
       "2   647 Woodlands Ring Road                 Admiralty / Woodlands    \n",
       "3   686B Woodlands Drive 73                 Admiralty / Woodlands    \n",
       "4       784C Woodlands Rise                 Admiralty / Woodlands    \n",
       "5    512 Woodlands Drive 14                 Admiralty / Woodlands    \n",
       "6   854 Woodlands Street 83                 Admiralty / Woodlands    \n",
       "7         18 Marsiling Lane                  Marsiling (Woodlands)   \n",
       "8   835 Woodlands Street 83                              Woodlands   \n",
       "9    714 Woodlands Drive 70                              Woodlands   \n",
       "10  835 Woodlands Street 83                              Woodlands   \n",
       "11       Woodlands Drive 14  Woodlands Regional Centre (Woodlands)   \n",
       "12      WOODLANDS STREET 41                  Marsiling (Woodlands)   \n",
       "\n",
       "      Room-type Building-type  Price  \n",
       "0   Common Room           HDB    700  \n",
       "1   Common Room           HDB    750  \n",
       "2   Common Room           HDB    600  \n",
       "3   Common Room           HDB    800  \n",
       "4   Common Room           HDB    600  \n",
       "5   Common Room           HDB    800  \n",
       "6   Common Room           HDB    800  \n",
       "7   Common Room           HDB    350  \n",
       "8   Master Room           HDB    900  \n",
       "9   Common Room           HDB    750  \n",
       "10  Common Room           HDB    900  \n",
       "11  Common Room           HDB    580  \n",
       "12  Common Room           HDB    750  "
      ]
     },
     "execution_count": 102,
     "metadata": {},
     "output_type": "execute_result"
    }
   ],
   "source": [
    "region_df"
   ]
  },
  {
   "cell_type": "code",
   "execution_count": 112,
   "metadata": {},
   "outputs": [
    {
     "name": "stdout",
     "output_type": "stream",
     "text": [
      "loading...\n",
      "done\n"
     ]
    }
   ],
   "source": [
    "# test for null\n",
    "# retry if timeout (too many requests in a short time frame)\n",
    "\n",
    "print('loading...')\n",
    "for ad in region_df['Address'][:15]:\n",
    "    loc = geolocator.geocode(ad)\n",
    "    if loc == None:\n",
    "        print('error')\n",
    "        break\n",
    "            \n",
    "print('done')"
   ]
  },
  {
   "cell_type": "markdown",
   "metadata": {},
   "source": [
    "### Assign coordinates and price to be able to used for geopy mapping "
   ]
  },
  {
   "cell_type": "code",
   "execution_count": 113,
   "metadata": {},
   "outputs": [],
   "source": [
    "# set limit due to free use of OpenStreet (limits number of queries at a given time) \n",
    "rent_markers = 15"
   ]
  },
  {
   "cell_type": "code",
   "execution_count": 114,
   "metadata": {},
   "outputs": [
    {
     "name": "stdout",
     "output_type": "stream",
     "text": [
      "loading...\n",
      "done\n"
     ]
    }
   ],
   "source": [
    "print('loading...')\n",
    "coords=[]\n",
    "counter=0\n",
    "\n",
    "for ad in region_df[['Address','Price']].values:\n",
    "    \n",
    "    # counter to keep track of no. of markers\n",
    "    if(counter < rent_markers):\n",
    "        # [0] - address\n",
    "        # [1] - price\n",
    "        address = ad[0]\n",
    "        # get coordinates (lat/long)\n",
    "        loc = geolocator.geocode(address)\n",
    "        # check for null\n",
    "        if loc != None:\n",
    "            coord = {\n",
    "                'address': address,\n",
    "                'lat': loc.latitude, \n",
    "                'long': loc.longitude,\n",
    "                'price': ad[1]\n",
    "            }\n",
    "        coords.append(coord)\n",
    "        counter+=1\n",
    "    else:\n",
    "        print('counter has reached max limit')\n",
    "        break\n",
    "        \n",
    "print('done')"
   ]
  },
  {
   "cell_type": "markdown",
   "metadata": {},
   "source": [
    "### Base map generation and MRT marker"
   ]
  },
  {
   "cell_type": "code",
   "execution_count": 115,
   "metadata": {},
   "outputs": [],
   "source": [
    "select_coords = [1.4382, 103.7890] # Woodlands\n",
    "sgmap = folium.Map(select_coords,zoom_start = 15)"
   ]
  },
  {
   "cell_type": "code",
   "execution_count": 116,
   "metadata": {},
   "outputs": [],
   "source": [
    "# blue icon for mrt marker\n",
    "woodlands_mrt = [1.4371239317978408, 103.78635238247789]\n",
    "\n",
    "marker = folium.Marker(location = woodlands_mrt, \n",
    "popup = 'Woodlands MRT',\n",
    "icon = folium.Icon(color='blue')).add_to(sgmap)"
   ]
  },
  {
   "cell_type": "markdown",
   "metadata": {},
   "source": [
    "### Create filtered markers and icons on local map"
   ]
  },
  {
   "cell_type": "code",
   "execution_count": 117,
   "metadata": {},
   "outputs": [],
   "source": [
    "# Colour code markers based on price\n",
    "# Green: <550\n",
    "# Orange: <750\n",
    "# Red: >=750\n",
    "def icon_colour(price):\n",
    "    if(price < 550):\n",
    "        return 'green'\n",
    "    elif(price < 750):\n",
    "        return 'orange'\n",
    "    else:\n",
    "        return 'red'"
   ]
  },
  {
   "cell_type": "code",
   "execution_count": 118,
   "metadata": {},
   "outputs": [
    {
     "name": "stdout",
     "output_type": "stream",
     "text": [
      "done\n"
     ]
    }
   ],
   "source": [
    "# get all coordinates from listings' address and mark on map\n",
    "for c in coords:\n",
    "    marker = folium.Marker(location = [c['lat'], c['long']], \n",
    "    popup = c['address'],\n",
    "    icon = folium.Icon(color=icon_colour(c['price']))).add_to(sgmap)\n",
    "\n",
    "print('done')"
   ]
  },
  {
   "cell_type": "markdown",
   "metadata": {},
   "source": [
    "<a id='section8'></a>\n",
    "## 8.0 Summary\n",
    "* Overview of rent listings in Woodlands"
   ]
  },
  {
   "cell_type": "code",
   "execution_count": 119,
   "metadata": {
    "scrolled": true
   },
   "outputs": [
    {
     "data": {
      "text/html": [
       "<div style=\"width:100%;\"><div style=\"position:relative;width:100%;height:0;padding-bottom:60%;\"><span style=\"color:#565656\">Make this Notebook Trusted to load map: File -> Trust Notebook</span><iframe src=\"about:blank\" style=\"position:absolute;width:100%;height:100%;left:0;top:0;border:none !important;\" data-html=%3C%21DOCTYPE%20html%3E%0A%3Chead%3E%20%20%20%20%0A%20%20%20%20%3Cmeta%20http-equiv%3D%22content-type%22%20content%3D%22text/html%3B%20charset%3DUTF-8%22%20/%3E%0A%20%20%20%20%0A%20%20%20%20%20%20%20%20%3Cscript%3E%0A%20%20%20%20%20%20%20%20%20%20%20%20L_NO_TOUCH%20%3D%20false%3B%0A%20%20%20%20%20%20%20%20%20%20%20%20L_DISABLE_3D%20%3D%20false%3B%0A%20%20%20%20%20%20%20%20%3C/script%3E%0A%20%20%20%20%0A%20%20%20%20%3Cstyle%3Ehtml%2C%20body%20%7Bwidth%3A%20100%25%3Bheight%3A%20100%25%3Bmargin%3A%200%3Bpadding%3A%200%3B%7D%3C/style%3E%0A%20%20%20%20%3Cstyle%3E%23map%20%7Bposition%3Aabsolute%3Btop%3A0%3Bbottom%3A0%3Bright%3A0%3Bleft%3A0%3B%7D%3C/style%3E%0A%20%20%20%20%3Cscript%20src%3D%22https%3A//cdn.jsdelivr.net/npm/leaflet%401.6.0/dist/leaflet.js%22%3E%3C/script%3E%0A%20%20%20%20%3Cscript%20src%3D%22https%3A//code.jquery.com/jquery-1.12.4.min.js%22%3E%3C/script%3E%0A%20%20%20%20%3Cscript%20src%3D%22https%3A//maxcdn.bootstrapcdn.com/bootstrap/3.2.0/js/bootstrap.min.js%22%3E%3C/script%3E%0A%20%20%20%20%3Cscript%20src%3D%22https%3A//cdnjs.cloudflare.com/ajax/libs/Leaflet.awesome-markers/2.0.2/leaflet.awesome-markers.js%22%3E%3C/script%3E%0A%20%20%20%20%3Clink%20rel%3D%22stylesheet%22%20href%3D%22https%3A//cdn.jsdelivr.net/npm/leaflet%401.6.0/dist/leaflet.css%22/%3E%0A%20%20%20%20%3Clink%20rel%3D%22stylesheet%22%20href%3D%22https%3A//maxcdn.bootstrapcdn.com/bootstrap/3.2.0/css/bootstrap.min.css%22/%3E%0A%20%20%20%20%3Clink%20rel%3D%22stylesheet%22%20href%3D%22https%3A//maxcdn.bootstrapcdn.com/bootstrap/3.2.0/css/bootstrap-theme.min.css%22/%3E%0A%20%20%20%20%3Clink%20rel%3D%22stylesheet%22%20href%3D%22https%3A//maxcdn.bootstrapcdn.com/font-awesome/4.6.3/css/font-awesome.min.css%22/%3E%0A%20%20%20%20%3Clink%20rel%3D%22stylesheet%22%20href%3D%22https%3A//cdnjs.cloudflare.com/ajax/libs/Leaflet.awesome-markers/2.0.2/leaflet.awesome-markers.css%22/%3E%0A%20%20%20%20%3Clink%20rel%3D%22stylesheet%22%20href%3D%22https%3A//cdn.jsdelivr.net/gh/python-visualization/folium/folium/templates/leaflet.awesome.rotate.min.css%22/%3E%0A%20%20%20%20%0A%20%20%20%20%20%20%20%20%20%20%20%20%3Cmeta%20name%3D%22viewport%22%20content%3D%22width%3Ddevice-width%2C%0A%20%20%20%20%20%20%20%20%20%20%20%20%20%20%20%20initial-scale%3D1.0%2C%20maximum-scale%3D1.0%2C%20user-scalable%3Dno%22%20/%3E%0A%20%20%20%20%20%20%20%20%20%20%20%20%3Cstyle%3E%0A%20%20%20%20%20%20%20%20%20%20%20%20%20%20%20%20%23map_8386418f2e9c4c2ca276118d5e424a99%20%7B%0A%20%20%20%20%20%20%20%20%20%20%20%20%20%20%20%20%20%20%20%20position%3A%20relative%3B%0A%20%20%20%20%20%20%20%20%20%20%20%20%20%20%20%20%20%20%20%20width%3A%20100.0%25%3B%0A%20%20%20%20%20%20%20%20%20%20%20%20%20%20%20%20%20%20%20%20height%3A%20100.0%25%3B%0A%20%20%20%20%20%20%20%20%20%20%20%20%20%20%20%20%20%20%20%20left%3A%200.0%25%3B%0A%20%20%20%20%20%20%20%20%20%20%20%20%20%20%20%20%20%20%20%20top%3A%200.0%25%3B%0A%20%20%20%20%20%20%20%20%20%20%20%20%20%20%20%20%7D%0A%20%20%20%20%20%20%20%20%20%20%20%20%3C/style%3E%0A%20%20%20%20%20%20%20%20%0A%3C/head%3E%0A%3Cbody%3E%20%20%20%20%0A%20%20%20%20%0A%20%20%20%20%20%20%20%20%20%20%20%20%3Cdiv%20class%3D%22folium-map%22%20id%3D%22map_8386418f2e9c4c2ca276118d5e424a99%22%20%3E%3C/div%3E%0A%20%20%20%20%20%20%20%20%0A%3C/body%3E%0A%3Cscript%3E%20%20%20%20%0A%20%20%20%20%0A%20%20%20%20%20%20%20%20%20%20%20%20var%20map_8386418f2e9c4c2ca276118d5e424a99%20%3D%20L.map%28%0A%20%20%20%20%20%20%20%20%20%20%20%20%20%20%20%20%22map_8386418f2e9c4c2ca276118d5e424a99%22%2C%0A%20%20%20%20%20%20%20%20%20%20%20%20%20%20%20%20%7B%0A%20%20%20%20%20%20%20%20%20%20%20%20%20%20%20%20%20%20%20%20center%3A%20%5B1.4382%2C%20103.789%5D%2C%0A%20%20%20%20%20%20%20%20%20%20%20%20%20%20%20%20%20%20%20%20crs%3A%20L.CRS.EPSG3857%2C%0A%20%20%20%20%20%20%20%20%20%20%20%20%20%20%20%20%20%20%20%20zoom%3A%2015%2C%0A%20%20%20%20%20%20%20%20%20%20%20%20%20%20%20%20%20%20%20%20zoomControl%3A%20true%2C%0A%20%20%20%20%20%20%20%20%20%20%20%20%20%20%20%20%20%20%20%20preferCanvas%3A%20false%2C%0A%20%20%20%20%20%20%20%20%20%20%20%20%20%20%20%20%7D%0A%20%20%20%20%20%20%20%20%20%20%20%20%29%3B%0A%0A%20%20%20%20%20%20%20%20%20%20%20%20%0A%0A%20%20%20%20%20%20%20%20%0A%20%20%20%20%0A%20%20%20%20%20%20%20%20%20%20%20%20var%20tile_layer_3c268f7c46db4ffe8f73d4a26a1aa150%20%3D%20L.tileLayer%28%0A%20%20%20%20%20%20%20%20%20%20%20%20%20%20%20%20%22https%3A//%7Bs%7D.tile.openstreetmap.org/%7Bz%7D/%7Bx%7D/%7By%7D.png%22%2C%0A%20%20%20%20%20%20%20%20%20%20%20%20%20%20%20%20%7B%22attribution%22%3A%20%22Data%20by%20%5Cu0026copy%3B%20%5Cu003ca%20href%3D%5C%22http%3A//openstreetmap.org%5C%22%5Cu003eOpenStreetMap%5Cu003c/a%5Cu003e%2C%20under%20%5Cu003ca%20href%3D%5C%22http%3A//www.openstreetmap.org/copyright%5C%22%5Cu003eODbL%5Cu003c/a%5Cu003e.%22%2C%20%22detectRetina%22%3A%20false%2C%20%22maxNativeZoom%22%3A%2018%2C%20%22maxZoom%22%3A%2018%2C%20%22minZoom%22%3A%200%2C%20%22noWrap%22%3A%20false%2C%20%22opacity%22%3A%201%2C%20%22subdomains%22%3A%20%22abc%22%2C%20%22tms%22%3A%20false%7D%0A%20%20%20%20%20%20%20%20%20%20%20%20%29.addTo%28map_8386418f2e9c4c2ca276118d5e424a99%29%3B%0A%20%20%20%20%20%20%20%20%0A%20%20%20%20%0A%20%20%20%20%20%20%20%20%20%20%20%20var%20marker_8b0c04272efc41d7b11da52ecf5762f1%20%3D%20L.marker%28%0A%20%20%20%20%20%20%20%20%20%20%20%20%20%20%20%20%5B1.4371239317978408%2C%20103.78635238247789%5D%2C%0A%20%20%20%20%20%20%20%20%20%20%20%20%20%20%20%20%7B%7D%0A%20%20%20%20%20%20%20%20%20%20%20%20%29.addTo%28map_8386418f2e9c4c2ca276118d5e424a99%29%3B%0A%20%20%20%20%20%20%20%20%0A%20%20%20%20%0A%20%20%20%20%20%20%20%20%20%20%20%20var%20icon_b01510d1ae0f4101a7aecab0d460cee8%20%3D%20L.AwesomeMarkers.icon%28%0A%20%20%20%20%20%20%20%20%20%20%20%20%20%20%20%20%7B%22extraClasses%22%3A%20%22fa-rotate-0%22%2C%20%22icon%22%3A%20%22info-sign%22%2C%20%22iconColor%22%3A%20%22white%22%2C%20%22markerColor%22%3A%20%22blue%22%2C%20%22prefix%22%3A%20%22glyphicon%22%7D%0A%20%20%20%20%20%20%20%20%20%20%20%20%29%3B%0A%20%20%20%20%20%20%20%20%20%20%20%20marker_8b0c04272efc41d7b11da52ecf5762f1.setIcon%28icon_b01510d1ae0f4101a7aecab0d460cee8%29%3B%0A%20%20%20%20%20%20%20%20%0A%20%20%20%20%0A%20%20%20%20%20%20%20%20var%20popup_a5a61bb740f145bab761bab101119f00%20%3D%20L.popup%28%7B%22maxWidth%22%3A%20%22100%25%22%7D%29%3B%0A%0A%20%20%20%20%20%20%20%20%0A%20%20%20%20%20%20%20%20%20%20%20%20var%20html_24c238021c9d4f6684545a570a2ea900%20%3D%20%24%28%60%3Cdiv%20id%3D%22html_24c238021c9d4f6684545a570a2ea900%22%20style%3D%22width%3A%20100.0%25%3B%20height%3A%20100.0%25%3B%22%3EWoodlands%20MRT%3C/div%3E%60%29%5B0%5D%3B%0A%20%20%20%20%20%20%20%20%20%20%20%20popup_a5a61bb740f145bab761bab101119f00.setContent%28html_24c238021c9d4f6684545a570a2ea900%29%3B%0A%20%20%20%20%20%20%20%20%0A%0A%20%20%20%20%20%20%20%20marker_8b0c04272efc41d7b11da52ecf5762f1.bindPopup%28popup_a5a61bb740f145bab761bab101119f00%29%0A%20%20%20%20%20%20%20%20%3B%0A%0A%20%20%20%20%20%20%20%20%0A%20%20%20%20%0A%20%20%20%20%0A%20%20%20%20%20%20%20%20%20%20%20%20var%20marker_d611d19918be43f7bc27348ef6acee10%20%3D%20L.marker%28%0A%20%20%20%20%20%20%20%20%20%20%20%20%20%20%20%20%5B1.43652515%2C%20103.80232658400462%5D%2C%0A%20%20%20%20%20%20%20%20%20%20%20%20%20%20%20%20%7B%7D%0A%20%20%20%20%20%20%20%20%20%20%20%20%29.addTo%28map_8386418f2e9c4c2ca276118d5e424a99%29%3B%0A%20%20%20%20%20%20%20%20%0A%20%20%20%20%0A%20%20%20%20%20%20%20%20%20%20%20%20var%20icon_78a70c0bd62740fbb1d2a208d1e1b7e0%20%3D%20L.AwesomeMarkers.icon%28%0A%20%20%20%20%20%20%20%20%20%20%20%20%20%20%20%20%7B%22extraClasses%22%3A%20%22fa-rotate-0%22%2C%20%22icon%22%3A%20%22info-sign%22%2C%20%22iconColor%22%3A%20%22white%22%2C%20%22markerColor%22%3A%20%22orange%22%2C%20%22prefix%22%3A%20%22glyphicon%22%7D%0A%20%20%20%20%20%20%20%20%20%20%20%20%29%3B%0A%20%20%20%20%20%20%20%20%20%20%20%20marker_d611d19918be43f7bc27348ef6acee10.setIcon%28icon_78a70c0bd62740fbb1d2a208d1e1b7e0%29%3B%0A%20%20%20%20%20%20%20%20%0A%20%20%20%20%0A%20%20%20%20%20%20%20%20var%20popup_9008badc4c0f4f3ebf7516ecbf5932bf%20%3D%20L.popup%28%7B%22maxWidth%22%3A%20%22100%25%22%7D%29%3B%0A%0A%20%20%20%20%20%20%20%20%0A%20%20%20%20%20%20%20%20%20%20%20%20var%20html_088e6bb7922a4fdba9ca2d434cfb142e%20%3D%20%24%28%60%3Cdiv%20id%3D%22html_088e6bb7922a4fdba9ca2d434cfb142e%22%20style%3D%22width%3A%20100.0%25%3B%20height%3A%20100.0%25%3B%22%3E635%20Woodlands%20Ring%20Road%3C/div%3E%60%29%5B0%5D%3B%0A%20%20%20%20%20%20%20%20%20%20%20%20popup_9008badc4c0f4f3ebf7516ecbf5932bf.setContent%28html_088e6bb7922a4fdba9ca2d434cfb142e%29%3B%0A%20%20%20%20%20%20%20%20%0A%0A%20%20%20%20%20%20%20%20marker_d611d19918be43f7bc27348ef6acee10.bindPopup%28popup_9008badc4c0f4f3ebf7516ecbf5932bf%29%0A%20%20%20%20%20%20%20%20%3B%0A%0A%20%20%20%20%20%20%20%20%0A%20%20%20%20%0A%20%20%20%20%0A%20%20%20%20%20%20%20%20%20%20%20%20var%20marker_0e6999c487524fe4a0ad7763804e2c08%20%3D%20L.marker%28%0A%20%20%20%20%20%20%20%20%20%20%20%20%20%20%20%20%5B1.44826775%2C%20103.80196140822251%5D%2C%0A%20%20%20%20%20%20%20%20%20%20%20%20%20%20%20%20%7B%7D%0A%20%20%20%20%20%20%20%20%20%20%20%20%29.addTo%28map_8386418f2e9c4c2ca276118d5e424a99%29%3B%0A%20%20%20%20%20%20%20%20%0A%20%20%20%20%0A%20%20%20%20%20%20%20%20%20%20%20%20var%20icon_1d64d8a57b9d4b17827c4dab1fbbf494%20%3D%20L.AwesomeMarkers.icon%28%0A%20%20%20%20%20%20%20%20%20%20%20%20%20%20%20%20%7B%22extraClasses%22%3A%20%22fa-rotate-0%22%2C%20%22icon%22%3A%20%22info-sign%22%2C%20%22iconColor%22%3A%20%22white%22%2C%20%22markerColor%22%3A%20%22red%22%2C%20%22prefix%22%3A%20%22glyphicon%22%7D%0A%20%20%20%20%20%20%20%20%20%20%20%20%29%3B%0A%20%20%20%20%20%20%20%20%20%20%20%20marker_0e6999c487524fe4a0ad7763804e2c08.setIcon%28icon_1d64d8a57b9d4b17827c4dab1fbbf494%29%3B%0A%20%20%20%20%20%20%20%20%0A%20%20%20%20%0A%20%20%20%20%20%20%20%20var%20popup_7994504053884dfd957f606decb656c3%20%3D%20L.popup%28%7B%22maxWidth%22%3A%20%22100%25%22%7D%29%3B%0A%0A%20%20%20%20%20%20%20%20%0A%20%20%20%20%20%20%20%20%20%20%20%20var%20html_c66ed2409e4d4e18a78fc339cb4ed89d%20%3D%20%24%28%60%3Cdiv%20id%3D%22html_c66ed2409e4d4e18a78fc339cb4ed89d%22%20style%3D%22width%3A%20100.0%25%3B%20height%3A%20100.0%25%3B%22%3E780D%20Woodlands%20Crescent%3C/div%3E%60%29%5B0%5D%3B%0A%20%20%20%20%20%20%20%20%20%20%20%20popup_7994504053884dfd957f606decb656c3.setContent%28html_c66ed2409e4d4e18a78fc339cb4ed89d%29%3B%0A%20%20%20%20%20%20%20%20%0A%0A%20%20%20%20%20%20%20%20marker_0e6999c487524fe4a0ad7763804e2c08.bindPopup%28popup_7994504053884dfd957f606decb656c3%29%0A%20%20%20%20%20%20%20%20%3B%0A%0A%20%20%20%20%20%20%20%20%0A%20%20%20%20%0A%20%20%20%20%0A%20%20%20%20%20%20%20%20%20%20%20%20var%20marker_a2c64492efd34c8bbc3f9dbeb0f6f1fc%20%3D%20L.marker%28%0A%20%20%20%20%20%20%20%20%20%20%20%20%20%20%20%20%5B1.4378758500000002%2C%20103.80099073617006%5D%2C%0A%20%20%20%20%20%20%20%20%20%20%20%20%20%20%20%20%7B%7D%0A%20%20%20%20%20%20%20%20%20%20%20%20%29.addTo%28map_8386418f2e9c4c2ca276118d5e424a99%29%3B%0A%20%20%20%20%20%20%20%20%0A%20%20%20%20%0A%20%20%20%20%20%20%20%20%20%20%20%20var%20icon_6d959ca0f0284138bb3922ec56afecfc%20%3D%20L.AwesomeMarkers.icon%28%0A%20%20%20%20%20%20%20%20%20%20%20%20%20%20%20%20%7B%22extraClasses%22%3A%20%22fa-rotate-0%22%2C%20%22icon%22%3A%20%22info-sign%22%2C%20%22iconColor%22%3A%20%22white%22%2C%20%22markerColor%22%3A%20%22orange%22%2C%20%22prefix%22%3A%20%22glyphicon%22%7D%0A%20%20%20%20%20%20%20%20%20%20%20%20%29%3B%0A%20%20%20%20%20%20%20%20%20%20%20%20marker_a2c64492efd34c8bbc3f9dbeb0f6f1fc.setIcon%28icon_6d959ca0f0284138bb3922ec56afecfc%29%3B%0A%20%20%20%20%20%20%20%20%0A%20%20%20%20%0A%20%20%20%20%20%20%20%20var%20popup_1eea0b0152874439a57eafb8292167ba%20%3D%20L.popup%28%7B%22maxWidth%22%3A%20%22100%25%22%7D%29%3B%0A%0A%20%20%20%20%20%20%20%20%0A%20%20%20%20%20%20%20%20%20%20%20%20var%20html_353bc806149943ed915c9d9d380a15be%20%3D%20%24%28%60%3Cdiv%20id%3D%22html_353bc806149943ed915c9d9d380a15be%22%20style%3D%22width%3A%20100.0%25%3B%20height%3A%20100.0%25%3B%22%3E647%20Woodlands%20Ring%20Road%3C/div%3E%60%29%5B0%5D%3B%0A%20%20%20%20%20%20%20%20%20%20%20%20popup_1eea0b0152874439a57eafb8292167ba.setContent%28html_353bc806149943ed915c9d9d380a15be%29%3B%0A%20%20%20%20%20%20%20%20%0A%0A%20%20%20%20%20%20%20%20marker_a2c64492efd34c8bbc3f9dbeb0f6f1fc.bindPopup%28popup_1eea0b0152874439a57eafb8292167ba%29%0A%20%20%20%20%20%20%20%20%3B%0A%0A%20%20%20%20%20%20%20%20%0A%20%20%20%20%0A%20%20%20%20%0A%20%20%20%20%20%20%20%20%20%20%20%20var%20marker_55a934a7f260499292be9c1e0936aa4f%20%3D%20L.marker%28%0A%20%20%20%20%20%20%20%20%20%20%20%20%20%20%20%20%5B1.4418341%2C%20103.8052101%5D%2C%0A%20%20%20%20%20%20%20%20%20%20%20%20%20%20%20%20%7B%7D%0A%20%20%20%20%20%20%20%20%20%20%20%20%29.addTo%28map_8386418f2e9c4c2ca276118d5e424a99%29%3B%0A%20%20%20%20%20%20%20%20%0A%20%20%20%20%0A%20%20%20%20%20%20%20%20%20%20%20%20var%20icon_98cdd18aba7f40d5b9a79cbec13bbf0f%20%3D%20L.AwesomeMarkers.icon%28%0A%20%20%20%20%20%20%20%20%20%20%20%20%20%20%20%20%7B%22extraClasses%22%3A%20%22fa-rotate-0%22%2C%20%22icon%22%3A%20%22info-sign%22%2C%20%22iconColor%22%3A%20%22white%22%2C%20%22markerColor%22%3A%20%22red%22%2C%20%22prefix%22%3A%20%22glyphicon%22%7D%0A%20%20%20%20%20%20%20%20%20%20%20%20%29%3B%0A%20%20%20%20%20%20%20%20%20%20%20%20marker_55a934a7f260499292be9c1e0936aa4f.setIcon%28icon_98cdd18aba7f40d5b9a79cbec13bbf0f%29%3B%0A%20%20%20%20%20%20%20%20%0A%20%20%20%20%0A%20%20%20%20%20%20%20%20var%20popup_2d5adc1187834672bf7057de8a3e86d0%20%3D%20L.popup%28%7B%22maxWidth%22%3A%20%22100%25%22%7D%29%3B%0A%0A%20%20%20%20%20%20%20%20%0A%20%20%20%20%20%20%20%20%20%20%20%20var%20html_ae4055c29b524ee1906e9e5c83b7563f%20%3D%20%24%28%60%3Cdiv%20id%3D%22html_ae4055c29b524ee1906e9e5c83b7563f%22%20style%3D%22width%3A%20100.0%25%3B%20height%3A%20100.0%25%3B%22%3E686B%20Woodlands%20Drive%2073%3C/div%3E%60%29%5B0%5D%3B%0A%20%20%20%20%20%20%20%20%20%20%20%20popup_2d5adc1187834672bf7057de8a3e86d0.setContent%28html_ae4055c29b524ee1906e9e5c83b7563f%29%3B%0A%20%20%20%20%20%20%20%20%0A%0A%20%20%20%20%20%20%20%20marker_55a934a7f260499292be9c1e0936aa4f.bindPopup%28popup_2d5adc1187834672bf7057de8a3e86d0%29%0A%20%20%20%20%20%20%20%20%3B%0A%0A%20%20%20%20%20%20%20%20%0A%20%20%20%20%0A%20%20%20%20%0A%20%20%20%20%20%20%20%20%20%20%20%20var%20marker_01a81949819f47f59acd6298a62326f2%20%3D%20L.marker%28%0A%20%20%20%20%20%20%20%20%20%20%20%20%20%20%20%20%5B1.44602465%2C%20103.80500028042131%5D%2C%0A%20%20%20%20%20%20%20%20%20%20%20%20%20%20%20%20%7B%7D%0A%20%20%20%20%20%20%20%20%20%20%20%20%29.addTo%28map_8386418f2e9c4c2ca276118d5e424a99%29%3B%0A%20%20%20%20%20%20%20%20%0A%20%20%20%20%0A%20%20%20%20%20%20%20%20%20%20%20%20var%20icon_f92aa2fb8a6d4790b0043ccb863ba24a%20%3D%20L.AwesomeMarkers.icon%28%0A%20%20%20%20%20%20%20%20%20%20%20%20%20%20%20%20%7B%22extraClasses%22%3A%20%22fa-rotate-0%22%2C%20%22icon%22%3A%20%22info-sign%22%2C%20%22iconColor%22%3A%20%22white%22%2C%20%22markerColor%22%3A%20%22orange%22%2C%20%22prefix%22%3A%20%22glyphicon%22%7D%0A%20%20%20%20%20%20%20%20%20%20%20%20%29%3B%0A%20%20%20%20%20%20%20%20%20%20%20%20marker_01a81949819f47f59acd6298a62326f2.setIcon%28icon_f92aa2fb8a6d4790b0043ccb863ba24a%29%3B%0A%20%20%20%20%20%20%20%20%0A%20%20%20%20%0A%20%20%20%20%20%20%20%20var%20popup_33869d8ce453441fb5ab399119b83b5c%20%3D%20L.popup%28%7B%22maxWidth%22%3A%20%22100%25%22%7D%29%3B%0A%0A%20%20%20%20%20%20%20%20%0A%20%20%20%20%20%20%20%20%20%20%20%20var%20html_3b34cbf8b9c14103a35aa282ab494502%20%3D%20%24%28%60%3Cdiv%20id%3D%22html_3b34cbf8b9c14103a35aa282ab494502%22%20style%3D%22width%3A%20100.0%25%3B%20height%3A%20100.0%25%3B%22%3E784C%20Woodlands%20Rise%3C/div%3E%60%29%5B0%5D%3B%0A%20%20%20%20%20%20%20%20%20%20%20%20popup_33869d8ce453441fb5ab399119b83b5c.setContent%28html_3b34cbf8b9c14103a35aa282ab494502%29%3B%0A%20%20%20%20%20%20%20%20%0A%0A%20%20%20%20%20%20%20%20marker_01a81949819f47f59acd6298a62326f2.bindPopup%28popup_33869d8ce453441fb5ab399119b83b5c%29%0A%20%20%20%20%20%20%20%20%3B%0A%0A%20%20%20%20%20%20%20%20%0A%20%20%20%20%0A%20%20%20%20%0A%20%20%20%20%20%20%20%20%20%20%20%20var%20marker_70360ce02f40495f85c48c67e48398ae%20%3D%20L.marker%28%0A%20%20%20%20%20%20%20%20%20%20%20%20%20%20%20%20%5B1.4316433%2C%20103.791488%5D%2C%0A%20%20%20%20%20%20%20%20%20%20%20%20%20%20%20%20%7B%7D%0A%20%20%20%20%20%20%20%20%20%20%20%20%29.addTo%28map_8386418f2e9c4c2ca276118d5e424a99%29%3B%0A%20%20%20%20%20%20%20%20%0A%20%20%20%20%0A%20%20%20%20%20%20%20%20%20%20%20%20var%20icon_837793bbf85948cfbb9dc83da5154072%20%3D%20L.AwesomeMarkers.icon%28%0A%20%20%20%20%20%20%20%20%20%20%20%20%20%20%20%20%7B%22extraClasses%22%3A%20%22fa-rotate-0%22%2C%20%22icon%22%3A%20%22info-sign%22%2C%20%22iconColor%22%3A%20%22white%22%2C%20%22markerColor%22%3A%20%22red%22%2C%20%22prefix%22%3A%20%22glyphicon%22%7D%0A%20%20%20%20%20%20%20%20%20%20%20%20%29%3B%0A%20%20%20%20%20%20%20%20%20%20%20%20marker_70360ce02f40495f85c48c67e48398ae.setIcon%28icon_837793bbf85948cfbb9dc83da5154072%29%3B%0A%20%20%20%20%20%20%20%20%0A%20%20%20%20%0A%20%20%20%20%20%20%20%20var%20popup_e1787fbc261e425e8ca7fdd980617fb0%20%3D%20L.popup%28%7B%22maxWidth%22%3A%20%22100%25%22%7D%29%3B%0A%0A%20%20%20%20%20%20%20%20%0A%20%20%20%20%20%20%20%20%20%20%20%20var%20html_75bb0f466e764f2cbf71880e31015563%20%3D%20%24%28%60%3Cdiv%20id%3D%22html_75bb0f466e764f2cbf71880e31015563%22%20style%3D%22width%3A%20100.0%25%3B%20height%3A%20100.0%25%3B%22%3E512%20Woodlands%20Drive%2014%3C/div%3E%60%29%5B0%5D%3B%0A%20%20%20%20%20%20%20%20%20%20%20%20popup_e1787fbc261e425e8ca7fdd980617fb0.setContent%28html_75bb0f466e764f2cbf71880e31015563%29%3B%0A%20%20%20%20%20%20%20%20%0A%0A%20%20%20%20%20%20%20%20marker_70360ce02f40495f85c48c67e48398ae.bindPopup%28popup_e1787fbc261e425e8ca7fdd980617fb0%29%0A%20%20%20%20%20%20%20%20%3B%0A%0A%20%20%20%20%20%20%20%20%0A%20%20%20%20%0A%20%20%20%20%0A%20%20%20%20%20%20%20%20%20%20%20%20var%20marker_a840074389494571a6b3cf479d7b0c7e%20%3D%20L.marker%28%0A%20%20%20%20%20%20%20%20%20%20%20%20%20%20%20%20%5B1.4407729%2C%20103.7924428%5D%2C%0A%20%20%20%20%20%20%20%20%20%20%20%20%20%20%20%20%7B%7D%0A%20%20%20%20%20%20%20%20%20%20%20%20%29.addTo%28map_8386418f2e9c4c2ca276118d5e424a99%29%3B%0A%20%20%20%20%20%20%20%20%0A%20%20%20%20%0A%20%20%20%20%20%20%20%20%20%20%20%20var%20icon_a88a82840dc24981a587f3cdb99effbf%20%3D%20L.AwesomeMarkers.icon%28%0A%20%20%20%20%20%20%20%20%20%20%20%20%20%20%20%20%7B%22extraClasses%22%3A%20%22fa-rotate-0%22%2C%20%22icon%22%3A%20%22info-sign%22%2C%20%22iconColor%22%3A%20%22white%22%2C%20%22markerColor%22%3A%20%22red%22%2C%20%22prefix%22%3A%20%22glyphicon%22%7D%0A%20%20%20%20%20%20%20%20%20%20%20%20%29%3B%0A%20%20%20%20%20%20%20%20%20%20%20%20marker_a840074389494571a6b3cf479d7b0c7e.setIcon%28icon_a88a82840dc24981a587f3cdb99effbf%29%3B%0A%20%20%20%20%20%20%20%20%0A%20%20%20%20%0A%20%20%20%20%20%20%20%20var%20popup_2f2e98444b0b484e90d93ae0f8d70eec%20%3D%20L.popup%28%7B%22maxWidth%22%3A%20%22100%25%22%7D%29%3B%0A%0A%20%20%20%20%20%20%20%20%0A%20%20%20%20%20%20%20%20%20%20%20%20var%20html_8cecdefdcce5435d97e9c55a0a4a0882%20%3D%20%24%28%60%3Cdiv%20id%3D%22html_8cecdefdcce5435d97e9c55a0a4a0882%22%20style%3D%22width%3A%20100.0%25%3B%20height%3A%20100.0%25%3B%22%3E854%20Woodlands%20Street%2083%3C/div%3E%60%29%5B0%5D%3B%0A%20%20%20%20%20%20%20%20%20%20%20%20popup_2f2e98444b0b484e90d93ae0f8d70eec.setContent%28html_8cecdefdcce5435d97e9c55a0a4a0882%29%3B%0A%20%20%20%20%20%20%20%20%0A%0A%20%20%20%20%20%20%20%20marker_a840074389494571a6b3cf479d7b0c7e.bindPopup%28popup_2f2e98444b0b484e90d93ae0f8d70eec%29%0A%20%20%20%20%20%20%20%20%3B%0A%0A%20%20%20%20%20%20%20%20%0A%20%20%20%20%0A%20%20%20%20%0A%20%20%20%20%20%20%20%20%20%20%20%20var%20marker_ecd8c304a7194a468a6e6507e6b1b96a%20%3D%20L.marker%28%0A%20%20%20%20%20%20%20%20%20%20%20%20%20%20%20%20%5B1.4432885%2C%20103.77792305225239%5D%2C%0A%20%20%20%20%20%20%20%20%20%20%20%20%20%20%20%20%7B%7D%0A%20%20%20%20%20%20%20%20%20%20%20%20%29.addTo%28map_8386418f2e9c4c2ca276118d5e424a99%29%3B%0A%20%20%20%20%20%20%20%20%0A%20%20%20%20%0A%20%20%20%20%20%20%20%20%20%20%20%20var%20icon_2af5c383131845f496844251449f526a%20%3D%20L.AwesomeMarkers.icon%28%0A%20%20%20%20%20%20%20%20%20%20%20%20%20%20%20%20%7B%22extraClasses%22%3A%20%22fa-rotate-0%22%2C%20%22icon%22%3A%20%22info-sign%22%2C%20%22iconColor%22%3A%20%22white%22%2C%20%22markerColor%22%3A%20%22green%22%2C%20%22prefix%22%3A%20%22glyphicon%22%7D%0A%20%20%20%20%20%20%20%20%20%20%20%20%29%3B%0A%20%20%20%20%20%20%20%20%20%20%20%20marker_ecd8c304a7194a468a6e6507e6b1b96a.setIcon%28icon_2af5c383131845f496844251449f526a%29%3B%0A%20%20%20%20%20%20%20%20%0A%20%20%20%20%0A%20%20%20%20%20%20%20%20var%20popup_f553463fba4241de9bdf7f9ee3c76c99%20%3D%20L.popup%28%7B%22maxWidth%22%3A%20%22100%25%22%7D%29%3B%0A%0A%20%20%20%20%20%20%20%20%0A%20%20%20%20%20%20%20%20%20%20%20%20var%20html_48eb0eb1915a4b43a1e84eee4e2fc791%20%3D%20%24%28%60%3Cdiv%20id%3D%22html_48eb0eb1915a4b43a1e84eee4e2fc791%22%20style%3D%22width%3A%20100.0%25%3B%20height%3A%20100.0%25%3B%22%3E18%20Marsiling%20Lane%3C/div%3E%60%29%5B0%5D%3B%0A%20%20%20%20%20%20%20%20%20%20%20%20popup_f553463fba4241de9bdf7f9ee3c76c99.setContent%28html_48eb0eb1915a4b43a1e84eee4e2fc791%29%3B%0A%20%20%20%20%20%20%20%20%0A%0A%20%20%20%20%20%20%20%20marker_ecd8c304a7194a468a6e6507e6b1b96a.bindPopup%28popup_f553463fba4241de9bdf7f9ee3c76c99%29%0A%20%20%20%20%20%20%20%20%3B%0A%0A%20%20%20%20%20%20%20%20%0A%20%20%20%20%0A%20%20%20%20%0A%20%20%20%20%20%20%20%20%20%20%20%20var%20marker_bf953642a11b4ae1900830043ff707a4%20%3D%20L.marker%28%0A%20%20%20%20%20%20%20%20%20%20%20%20%20%20%20%20%5B1.44046985%2C%20103.79104789882044%5D%2C%0A%20%20%20%20%20%20%20%20%20%20%20%20%20%20%20%20%7B%7D%0A%20%20%20%20%20%20%20%20%20%20%20%20%29.addTo%28map_8386418f2e9c4c2ca276118d5e424a99%29%3B%0A%20%20%20%20%20%20%20%20%0A%20%20%20%20%0A%20%20%20%20%20%20%20%20%20%20%20%20var%20icon_0bdcaa22511e4bb49664c3425366717b%20%3D%20L.AwesomeMarkers.icon%28%0A%20%20%20%20%20%20%20%20%20%20%20%20%20%20%20%20%7B%22extraClasses%22%3A%20%22fa-rotate-0%22%2C%20%22icon%22%3A%20%22info-sign%22%2C%20%22iconColor%22%3A%20%22white%22%2C%20%22markerColor%22%3A%20%22red%22%2C%20%22prefix%22%3A%20%22glyphicon%22%7D%0A%20%20%20%20%20%20%20%20%20%20%20%20%29%3B%0A%20%20%20%20%20%20%20%20%20%20%20%20marker_bf953642a11b4ae1900830043ff707a4.setIcon%28icon_0bdcaa22511e4bb49664c3425366717b%29%3B%0A%20%20%20%20%20%20%20%20%0A%20%20%20%20%0A%20%20%20%20%20%20%20%20var%20popup_291e47db444440ef980b3885f643f68a%20%3D%20L.popup%28%7B%22maxWidth%22%3A%20%22100%25%22%7D%29%3B%0A%0A%20%20%20%20%20%20%20%20%0A%20%20%20%20%20%20%20%20%20%20%20%20var%20html_643f2985a72b41999af727b9416c0a15%20%3D%20%24%28%60%3Cdiv%20id%3D%22html_643f2985a72b41999af727b9416c0a15%22%20style%3D%22width%3A%20100.0%25%3B%20height%3A%20100.0%25%3B%22%3E835%20Woodlands%20Street%2083%3C/div%3E%60%29%5B0%5D%3B%0A%20%20%20%20%20%20%20%20%20%20%20%20popup_291e47db444440ef980b3885f643f68a.setContent%28html_643f2985a72b41999af727b9416c0a15%29%3B%0A%20%20%20%20%20%20%20%20%0A%0A%20%20%20%20%20%20%20%20marker_bf953642a11b4ae1900830043ff707a4.bindPopup%28popup_291e47db444440ef980b3885f643f68a%29%0A%20%20%20%20%20%20%20%20%3B%0A%0A%20%20%20%20%20%20%20%20%0A%20%20%20%20%0A%20%20%20%20%0A%20%20%20%20%20%20%20%20%20%20%20%20var%20marker_3742fc24635849c0bca5e74efb17ce5a%20%3D%20L.marker%28%0A%20%20%20%20%20%20%20%20%20%20%20%20%20%20%20%20%5B1.4409426%2C%20103.7983064%5D%2C%0A%20%20%20%20%20%20%20%20%20%20%20%20%20%20%20%20%7B%7D%0A%20%20%20%20%20%20%20%20%20%20%20%20%29.addTo%28map_8386418f2e9c4c2ca276118d5e424a99%29%3B%0A%20%20%20%20%20%20%20%20%0A%20%20%20%20%0A%20%20%20%20%20%20%20%20%20%20%20%20var%20icon_a69c80cbc79948eba6d0081c5251d15c%20%3D%20L.AwesomeMarkers.icon%28%0A%20%20%20%20%20%20%20%20%20%20%20%20%20%20%20%20%7B%22extraClasses%22%3A%20%22fa-rotate-0%22%2C%20%22icon%22%3A%20%22info-sign%22%2C%20%22iconColor%22%3A%20%22white%22%2C%20%22markerColor%22%3A%20%22red%22%2C%20%22prefix%22%3A%20%22glyphicon%22%7D%0A%20%20%20%20%20%20%20%20%20%20%20%20%29%3B%0A%20%20%20%20%20%20%20%20%20%20%20%20marker_3742fc24635849c0bca5e74efb17ce5a.setIcon%28icon_a69c80cbc79948eba6d0081c5251d15c%29%3B%0A%20%20%20%20%20%20%20%20%0A%20%20%20%20%0A%20%20%20%20%20%20%20%20var%20popup_50651700d10445dea2e68a5227241f36%20%3D%20L.popup%28%7B%22maxWidth%22%3A%20%22100%25%22%7D%29%3B%0A%0A%20%20%20%20%20%20%20%20%0A%20%20%20%20%20%20%20%20%20%20%20%20var%20html_00830505d9f8447588af3c780fd1ac1a%20%3D%20%24%28%60%3Cdiv%20id%3D%22html_00830505d9f8447588af3c780fd1ac1a%22%20style%3D%22width%3A%20100.0%25%3B%20height%3A%20100.0%25%3B%22%3E714%20Woodlands%20Drive%2070%3C/div%3E%60%29%5B0%5D%3B%0A%20%20%20%20%20%20%20%20%20%20%20%20popup_50651700d10445dea2e68a5227241f36.setContent%28html_00830505d9f8447588af3c780fd1ac1a%29%3B%0A%20%20%20%20%20%20%20%20%0A%0A%20%20%20%20%20%20%20%20marker_3742fc24635849c0bca5e74efb17ce5a.bindPopup%28popup_50651700d10445dea2e68a5227241f36%29%0A%20%20%20%20%20%20%20%20%3B%0A%0A%20%20%20%20%20%20%20%20%0A%20%20%20%20%0A%20%20%20%20%0A%20%20%20%20%20%20%20%20%20%20%20%20var%20marker_31dae2d2ede5489e8df0e06dfde9562d%20%3D%20L.marker%28%0A%20%20%20%20%20%20%20%20%20%20%20%20%20%20%20%20%5B1.44046985%2C%20103.79104789882044%5D%2C%0A%20%20%20%20%20%20%20%20%20%20%20%20%20%20%20%20%7B%7D%0A%20%20%20%20%20%20%20%20%20%20%20%20%29.addTo%28map_8386418f2e9c4c2ca276118d5e424a99%29%3B%0A%20%20%20%20%20%20%20%20%0A%20%20%20%20%0A%20%20%20%20%20%20%20%20%20%20%20%20var%20icon_bc802ccd875d41f5820519dfe208f5dd%20%3D%20L.AwesomeMarkers.icon%28%0A%20%20%20%20%20%20%20%20%20%20%20%20%20%20%20%20%7B%22extraClasses%22%3A%20%22fa-rotate-0%22%2C%20%22icon%22%3A%20%22info-sign%22%2C%20%22iconColor%22%3A%20%22white%22%2C%20%22markerColor%22%3A%20%22red%22%2C%20%22prefix%22%3A%20%22glyphicon%22%7D%0A%20%20%20%20%20%20%20%20%20%20%20%20%29%3B%0A%20%20%20%20%20%20%20%20%20%20%20%20marker_31dae2d2ede5489e8df0e06dfde9562d.setIcon%28icon_bc802ccd875d41f5820519dfe208f5dd%29%3B%0A%20%20%20%20%20%20%20%20%0A%20%20%20%20%0A%20%20%20%20%20%20%20%20var%20popup_4eef0662102f4423a8dc987306c12d96%20%3D%20L.popup%28%7B%22maxWidth%22%3A%20%22100%25%22%7D%29%3B%0A%0A%20%20%20%20%20%20%20%20%0A%20%20%20%20%20%20%20%20%20%20%20%20var%20html_803a8295b4414edca00b71b85f82a974%20%3D%20%24%28%60%3Cdiv%20id%3D%22html_803a8295b4414edca00b71b85f82a974%22%20style%3D%22width%3A%20100.0%25%3B%20height%3A%20100.0%25%3B%22%3E835%20Woodlands%20Street%2083%3C/div%3E%60%29%5B0%5D%3B%0A%20%20%20%20%20%20%20%20%20%20%20%20popup_4eef0662102f4423a8dc987306c12d96.setContent%28html_803a8295b4414edca00b71b85f82a974%29%3B%0A%20%20%20%20%20%20%20%20%0A%0A%20%20%20%20%20%20%20%20marker_31dae2d2ede5489e8df0e06dfde9562d.bindPopup%28popup_4eef0662102f4423a8dc987306c12d96%29%0A%20%20%20%20%20%20%20%20%3B%0A%0A%20%20%20%20%20%20%20%20%0A%20%20%20%20%0A%20%20%20%20%0A%20%20%20%20%20%20%20%20%20%20%20%20var%20marker_927d41ece9bd43d48e144bbe78288b2f%20%3D%20L.marker%28%0A%20%20%20%20%20%20%20%20%20%20%20%20%20%20%20%20%5B1.4320533%2C%20103.7919811%5D%2C%0A%20%20%20%20%20%20%20%20%20%20%20%20%20%20%20%20%7B%7D%0A%20%20%20%20%20%20%20%20%20%20%20%20%29.addTo%28map_8386418f2e9c4c2ca276118d5e424a99%29%3B%0A%20%20%20%20%20%20%20%20%0A%20%20%20%20%0A%20%20%20%20%20%20%20%20%20%20%20%20var%20icon_0c3040c8ea8f44b5a09f9a9c33fcb18d%20%3D%20L.AwesomeMarkers.icon%28%0A%20%20%20%20%20%20%20%20%20%20%20%20%20%20%20%20%7B%22extraClasses%22%3A%20%22fa-rotate-0%22%2C%20%22icon%22%3A%20%22info-sign%22%2C%20%22iconColor%22%3A%20%22white%22%2C%20%22markerColor%22%3A%20%22orange%22%2C%20%22prefix%22%3A%20%22glyphicon%22%7D%0A%20%20%20%20%20%20%20%20%20%20%20%20%29%3B%0A%20%20%20%20%20%20%20%20%20%20%20%20marker_927d41ece9bd43d48e144bbe78288b2f.setIcon%28icon_0c3040c8ea8f44b5a09f9a9c33fcb18d%29%3B%0A%20%20%20%20%20%20%20%20%0A%20%20%20%20%0A%20%20%20%20%20%20%20%20var%20popup_30661db139e2434288dc942e8d00741b%20%3D%20L.popup%28%7B%22maxWidth%22%3A%20%22100%25%22%7D%29%3B%0A%0A%20%20%20%20%20%20%20%20%0A%20%20%20%20%20%20%20%20%20%20%20%20var%20html_6fe79feb66584bc89a4bb3b43cb43adb%20%3D%20%24%28%60%3Cdiv%20id%3D%22html_6fe79feb66584bc89a4bb3b43cb43adb%22%20style%3D%22width%3A%20100.0%25%3B%20height%3A%20100.0%25%3B%22%3EWoodlands%20Drive%2014%3C/div%3E%60%29%5B0%5D%3B%0A%20%20%20%20%20%20%20%20%20%20%20%20popup_30661db139e2434288dc942e8d00741b.setContent%28html_6fe79feb66584bc89a4bb3b43cb43adb%29%3B%0A%20%20%20%20%20%20%20%20%0A%0A%20%20%20%20%20%20%20%20marker_927d41ece9bd43d48e144bbe78288b2f.bindPopup%28popup_30661db139e2434288dc942e8d00741b%29%0A%20%20%20%20%20%20%20%20%3B%0A%0A%20%20%20%20%20%20%20%20%0A%20%20%20%20%0A%20%20%20%20%0A%20%20%20%20%20%20%20%20%20%20%20%20var%20marker_263260e9c21b4973a4b0bca1d17050a9%20%3D%20L.marker%28%0A%20%20%20%20%20%20%20%20%20%20%20%20%20%20%20%20%5B1.4278194%2C%20103.7719678%5D%2C%0A%20%20%20%20%20%20%20%20%20%20%20%20%20%20%20%20%7B%7D%0A%20%20%20%20%20%20%20%20%20%20%20%20%29.addTo%28map_8386418f2e9c4c2ca276118d5e424a99%29%3B%0A%20%20%20%20%20%20%20%20%0A%20%20%20%20%0A%20%20%20%20%20%20%20%20%20%20%20%20var%20icon_3431bc5a8f1e40a3984a35cd0ef2723f%20%3D%20L.AwesomeMarkers.icon%28%0A%20%20%20%20%20%20%20%20%20%20%20%20%20%20%20%20%7B%22extraClasses%22%3A%20%22fa-rotate-0%22%2C%20%22icon%22%3A%20%22info-sign%22%2C%20%22iconColor%22%3A%20%22white%22%2C%20%22markerColor%22%3A%20%22red%22%2C%20%22prefix%22%3A%20%22glyphicon%22%7D%0A%20%20%20%20%20%20%20%20%20%20%20%20%29%3B%0A%20%20%20%20%20%20%20%20%20%20%20%20marker_263260e9c21b4973a4b0bca1d17050a9.setIcon%28icon_3431bc5a8f1e40a3984a35cd0ef2723f%29%3B%0A%20%20%20%20%20%20%20%20%0A%20%20%20%20%0A%20%20%20%20%20%20%20%20var%20popup_4791c3791389429fbab5f41d6db04e7d%20%3D%20L.popup%28%7B%22maxWidth%22%3A%20%22100%25%22%7D%29%3B%0A%0A%20%20%20%20%20%20%20%20%0A%20%20%20%20%20%20%20%20%20%20%20%20var%20html_a3036368407042b187e86a966ae57b02%20%3D%20%24%28%60%3Cdiv%20id%3D%22html_a3036368407042b187e86a966ae57b02%22%20style%3D%22width%3A%20100.0%25%3B%20height%3A%20100.0%25%3B%22%3EWOODLANDS%20STREET%2041%3C/div%3E%60%29%5B0%5D%3B%0A%20%20%20%20%20%20%20%20%20%20%20%20popup_4791c3791389429fbab5f41d6db04e7d.setContent%28html_a3036368407042b187e86a966ae57b02%29%3B%0A%20%20%20%20%20%20%20%20%0A%0A%20%20%20%20%20%20%20%20marker_263260e9c21b4973a4b0bca1d17050a9.bindPopup%28popup_4791c3791389429fbab5f41d6db04e7d%29%0A%20%20%20%20%20%20%20%20%3B%0A%0A%20%20%20%20%20%20%20%20%0A%20%20%20%20%0A%3C/script%3E onload=\"this.contentDocument.open();this.contentDocument.write(    decodeURIComponent(this.getAttribute('data-html')));this.contentDocument.close();\" allowfullscreen webkitallowfullscreen mozallowfullscreen></iframe></div></div>"
      ],
      "text/plain": [
       "<folium.folium.Map at 0x7fc1036c8d30>"
      ]
     },
     "execution_count": 119,
     "metadata": {},
     "output_type": "execute_result"
    }
   ],
   "source": [
    "sgmap"
   ]
  },
  {
   "cell_type": "code",
   "execution_count": 63,
   "metadata": {},
   "outputs": [
    {
     "data": {
      "text/html": [
       "<div>\n",
       "<style scoped>\n",
       "    .dataframe tbody tr th:only-of-type {\n",
       "        vertical-align: middle;\n",
       "    }\n",
       "\n",
       "    .dataframe tbody tr th {\n",
       "        vertical-align: top;\n",
       "    }\n",
       "\n",
       "    .dataframe thead th {\n",
       "        text-align: right;\n",
       "    }\n",
       "</style>\n",
       "<table border=\"1\" class=\"dataframe\">\n",
       "  <thead>\n",
       "    <tr style=\"text-align: right;\">\n",
       "      <th></th>\n",
       "      <th>Town</th>\n",
       "      <th>No. of listings</th>\n",
       "      <th>Common Room</th>\n",
       "      <th>Median Price</th>\n",
       "      <th>Change</th>\n",
       "      <th>Change (%)</th>\n",
       "    </tr>\n",
       "  </thead>\n",
       "  <tbody>\n",
       "    <tr>\n",
       "      <th>23</th>\n",
       "      <td>Woodlands</td>\n",
       "      <td>12</td>\n",
       "      <td>490</td>\n",
       "      <td>698</td>\n",
       "      <td>208</td>\n",
       "      <td>42.4</td>\n",
       "    </tr>\n",
       "  </tbody>\n",
       "</table>\n",
       "</div>"
      ],
      "text/plain": [
       "         Town  No. of listings  Common Room  Median Price  Change  Change (%)\n",
       "23  Woodlands               12          490           698     208        42.4"
      ]
     },
     "execution_count": 63,
     "metadata": {},
     "output_type": "execute_result"
    }
   ],
   "source": [
    "median_df[median_df['Town']=='Woodlands']."
   ]
  },
  {
   "cell_type": "code",
   "execution_count": 92,
   "metadata": {},
   "outputs": [],
   "source": [
    "woodlands_median = int(median_df[median_df['Town']=='Woodlands']['Median Price'].values[0])\n",
    "overall_median = int(median_df['Median Price'].median())"
   ]
  },
  {
   "cell_type": "markdown",
   "metadata": {},
   "source": [
    "* Comparison of woodlands median price with current overall"
   ]
  },
  {
   "cell_type": "code",
   "execution_count": 98,
   "metadata": {},
   "outputs": [
    {
     "name": "stdout",
     "output_type": "stream",
     "text": [
      "Woodlands Median Price: $698\n",
      "Overall Median Price: $668\n",
      "Percentage variance: 4%\n"
     ]
    }
   ],
   "source": [
    "print(\"Woodlands Median Price: $\" + str(woodlands_median))\n",
    "print(\"Overall Median Price: $\" + str(overall_median))\n",
    "print(\"Percentage variance: \" + str(int(woodlands_median/overall_median * 100-100)) + \"%\")"
   ]
  },
  {
   "cell_type": "markdown",
   "metadata": {},
   "source": [
    "* 2019 --> now changes"
   ]
  },
  {
   "cell_type": "code",
   "execution_count": 104,
   "metadata": {},
   "outputs": [
    {
     "data": {
      "text/plain": [
       "No. of listings     10.240\n",
       "Common Room        600.400\n",
       "Median Price       555.560\n",
       "Change              59.960\n",
       "Change (%)          12.076\n",
       "Name: mean, dtype: float64"
      ]
     },
     "execution_count": 104,
     "metadata": {},
     "output_type": "execute_result"
    }
   ],
   "source": [
    "median_df.describe().T['mean']"
   ]
  },
  {
   "cell_type": "markdown",
   "metadata": {},
   "source": [
    "Overview on price distribution in specific region:\n",
    "trend of property and price distribution \n",
    "* are the cheaper properties cheaper because they are further from MRT?\n",
    "* is there a micro region where there are more rents?\n",
    "* how are the properties distributed across this region?"
   ]
  },
  {
   "cell_type": "markdown",
   "metadata": {},
   "source": [
    "<a id='section9'></a>\n",
    "## 9.0 Further development ideas (FYP)\n",
    "\n",
    "* Include different room-types and property-types into analysis\n",
    "    * Room types: Master room\n",
    "    * Property types: Condo/Landed/Studio\n",
    "* Consider additional factors for deciding a room, such as area of room and price per sqft.\n",
    "* Analyse the spread of prices amongst region with population margin in Singapore, look for a relation between the median prices in a particular region and population within that region.\n",
    "* Layout dengue clusters on map and include as an additional deciding factor \n",
    "* Additional factors such as distance to MRT and other amenities (mall)"
   ]
  },
  {
   "cell_type": "code",
   "execution_count": null,
   "metadata": {},
   "outputs": [],
   "source": []
  },
  {
   "cell_type": "markdown",
   "metadata": {},
   "source": [
    "\n",
    "\n"
   ]
  }
 ],
 "metadata": {
  "kernelspec": {
   "display_name": "Python 3",
   "language": "python",
   "name": "python3"
  },
  "language_info": {
   "codemirror_mode": {
    "name": "ipython",
    "version": 3
   },
   "file_extension": ".py",
   "mimetype": "text/x-python",
   "name": "python",
   "nbconvert_exporter": "python",
   "pygments_lexer": "ipython3",
   "version": "3.8.8"
  }
 },
 "nbformat": 4,
 "nbformat_minor": 4
}
